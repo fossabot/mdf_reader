{
 "cells": [
  {
   "cell_type": "markdown",
   "id": "nutritional-indie",
   "metadata": {},
   "source": [
    "## Generating CLIWOC missing code tables"
   ]
  },
  {
   "cell_type": "markdown",
   "id": "grateful-coalition",
   "metadata": {},
   "source": [
    "The Climatological Database for the World's Oceans 1750-1850 ([CLIWOC](https://stvno.github.io/page/cliwoc/)) has valuable information on its supplemental data stored in the [IMMA](https://icoads.noaa.gov/e-doc/imma/R3.0-imma1.pdf) format under the C99 column.\n",
    "\n",
    "We have successfully extracted this information with the [mdf_reader()](https://git.noc.ac.uk/brecinosrivas/mdf_reader) tool, but several important variables are missing their code tables.\n",
    "\n",
    "List of variables:\n",
    "\n",
    "- Ship types\n",
    "- latitude indicator\n",
    "- longitude indicator,\n",
    "- air temperature units\n",
    "- sst units\n",
    "- air pressure units\n",
    "- units of attached thermometer\n",
    "- longitude units\n",
    "- Barometer type\n",
    "- Distance units\n",
    "- Distance units to land marks\n",
    "- Distance units of how much the ship traveled\n",
    "- Units of other measurements (e.g. current speed)\n",
    "- Humidity units\n",
    "\n",
    "According to the [documentation](https://stvno.github.io/page/cliwoc/) of this deck (730) there are up to 20 different ways of writing down the air pressure but the code tables are not available anymore on the website. Therefore, we extracted from the supplemental data all possible entries for those fields which are missing a code table. We count each entry in order to construct a code table for that particular variable.\n",
    "\n",
    "The code to extract multiple variables from the CLIWOC supplemental data can be found [here](https://git.noc.ac.uk/brecinosrivas/mdf_reader/-/blob/master/tests/gather_stats_c99.py)\n",
    "\n",
    "### Set up"
   ]
  },
  {
   "cell_type": "code",
   "execution_count": 1,
   "id": "described-wallet",
   "metadata": {},
   "outputs": [],
   "source": [
    "import os\n",
    "import pickle\n",
    "\n",
    "import matplotlib.pyplot as plt\n",
    "import numpy as np\n",
    "import pandas as pd\n",
    "import seaborn as sns\n",
    "\n",
    "# PARAMS for plots\n",
    "from matplotlib import rcParams\n",
    "\n",
    "sns.set_style(\"whitegrid\")\n",
    "rcParams[\"axes.labelsize\"] = 14\n",
    "rcParams[\"xtick.labelsize\"] = 14\n",
    "rcParams[\"ytick.labelsize\"] = 14\n",
    "rcParams[\"legend.fontsize\"] = 16\n",
    "rcParams[\"legend.title_fontsize\"] = 16"
   ]
  },
  {
   "cell_type": "markdown",
   "id": "ranging-ferry",
   "metadata": {},
   "source": [
    "We stored the statistics per year in python pickle dictionaries."
   ]
  },
  {
   "cell_type": "code",
   "execution_count": 2,
   "id": "favorite-maria",
   "metadata": {},
   "outputs": [],
   "source": [
    "# Paths to data\n",
    "dirs = \"/Users/brivas/c3s_work/mdf_reader/tests/data/133-730/133-730\"\n",
    "file_names = sorted(os.listdir(dirs))"
   ]
  },
  {
   "cell_type": "code",
   "execution_count": 3,
   "id": "recent-knife",
   "metadata": {},
   "outputs": [
    {
     "data": {
      "text/plain": [
       "['1662.pkl', '1663.pkl', '1677.pkl', '1699.pkl', '1745.pkl']"
      ]
     },
     "execution_count": 3,
     "metadata": {},
     "output_type": "execute_result"
    }
   ],
   "source": [
    "file_names[0:5]"
   ]
  },
  {
   "cell_type": "code",
   "execution_count": 4,
   "id": "traditional-terminal",
   "metadata": {},
   "outputs": [],
   "source": [
    "def get_values(dic, key, year):\n",
    "    \"\"\"\n",
    "    Get individual sets of values from the pickle df\n",
    "    Params:\n",
    "    ------\n",
    "    dic: python dictionary containing all variables stats per year\n",
    "    key: variable name\n",
    "    year: year to extract\n",
    "    Returns:\n",
    "    --------\n",
    "    indexes: these are the variable types (e.g. barque or nan)\n",
    "    series.values: these are the counts of how many that variable name gets repeated\n",
    "    year: year to sample\n",
    "    \"\"\"\n",
    "    series = dic[key]\n",
    "    indexes = series.index.values\n",
    "    year = np.repeat(year, len(indexes))\n",
    "    return indexes, series.values, year"
   ]
  },
  {
   "cell_type": "code",
   "execution_count": 5,
   "id": "forward-context",
   "metadata": {},
   "outputs": [],
   "source": [
    "def exptract_year_arrays(path_to_file, key):\n",
    "    \"\"\"\n",
    "    Reads pickle file and extracts the variable arrays per year\n",
    "    Parms:\n",
    "    -----\n",
    "    path_to_file: path to the pickle file\n",
    "    key: variable to extract\n",
    "    Returns:\n",
    "    --------\n",
    "    df: dataframe from get_df\n",
    "\n",
    "    \"\"\"\n",
    "    with open(path_to_file, \"rb\") as handle:\n",
    "        base = os.path.basename(path_to_file)\n",
    "        year = os.path.splitext(base)[0]\n",
    "        dic_pickle = pickle.load(handle)\n",
    "        df = get_values(dic_pickle, key, year)\n",
    "        return df"
   ]
  },
  {
   "cell_type": "code",
   "execution_count": 6,
   "id": "ongoing-franchise",
   "metadata": {},
   "outputs": [],
   "source": [
    "def make_data_frame(list_of_files, main_directory, key):\n",
    "    # Define empty arrays to store the data\n",
    "    years = np.array([])\n",
    "    types_of_var = np.array([])\n",
    "    counts_var = np.array([])\n",
    "\n",
    "    for file in list_of_files:\n",
    "        full_path = os.path.join(main_directory, file)\n",
    "        var_type, count, year_f = exptract_year_arrays(full_path, key)\n",
    "        years = np.concatenate([years, year_f])\n",
    "        types_of_var = np.concatenate([types_of_var, var_type])\n",
    "        counts_var = np.concatenate([counts_var, count])\n",
    "\n",
    "    dataset = pd.DataFrame({\"Year\": years, key: types_of_var, \"Count\": counts_var})\n",
    "\n",
    "    return dataset"
   ]
  },
  {
   "cell_type": "code",
   "execution_count": 7,
   "id": "sufficient-jacob",
   "metadata": {},
   "outputs": [
    {
     "data": {
      "text/plain": [
       "'/Users/brivas/c3s_work/mdf_reader/tests/data/133-730/133-730'"
      ]
     },
     "execution_count": 7,
     "metadata": {},
     "output_type": "execute_result"
    }
   ],
   "source": [
    "dirs"
   ]
  },
  {
   "cell_type": "code",
   "execution_count": 8,
   "id": "settled-tribune",
   "metadata": {},
   "outputs": [],
   "source": [
    "# List of variables names stored in the pickle files\n",
    "dic_keys = [\n",
    "    \"ship_types\",\n",
    "    \"lan_inds\",  # in a silly mistake I wrote lat wrong in the output data set. Oh well\n",
    "    \"lon_inds\",\n",
    "    \"at_units\",\n",
    "    \"sst_units\",\n",
    "    \"ap_units\",\n",
    "    \"bart_units\",\n",
    "    \"lon_units\",\n",
    "    \"baro_types\",\n",
    "    \"distance_units\",\n",
    "    \"distance_units_to_land\",\n",
    "    \"distance_units_travelled\",\n",
    "    \"units_of_other_measurements\",\n",
    "    \"humidity_units\",\n",
    "]\n",
    "\n",
    "\n",
    "df_ships = make_data_frame(file_names, dirs, dic_keys[0]).dropna()\n",
    "df_lati = make_data_frame(file_names, dirs, dic_keys[1]).dropna()\n",
    "df_loni = make_data_frame(file_names, dirs, dic_keys[2]).dropna()\n",
    "df_atu = make_data_frame(file_names, dirs, dic_keys[3]).dropna()\n",
    "df_sstu = make_data_frame(file_names, dirs, dic_keys[4]).dropna()\n",
    "df_apu = make_data_frame(file_names, dirs, dic_keys[5]).dropna()\n",
    "df_bartu = make_data_frame(file_names, dirs, dic_keys[6]).dropna()\n",
    "df_lonu = make_data_frame(file_names, dirs, dic_keys[7]).dropna()\n",
    "df_barot = make_data_frame(file_names, dirs, dic_keys[8]).dropna()\n",
    "\n",
    "df_distu = make_data_frame(file_names, dirs, dic_keys[9]).dropna()\n",
    "df_distu_land = make_data_frame(file_names, dirs, dic_keys[10]).dropna()\n",
    "df_distu_travel = make_data_frame(file_names, dirs, dic_keys[11]).dropna()\n",
    "df_unit_m = make_data_frame(file_names, dirs, dic_keys[12]).dropna()\n",
    "df_humi_u = make_data_frame(file_names, dirs, dic_keys[13]).dropna()"
   ]
  },
  {
   "cell_type": "markdown",
   "id": "pressing-discovery",
   "metadata": {},
   "source": [
    "- Ship types"
   ]
  },
  {
   "cell_type": "code",
   "execution_count": 9,
   "id": "occasional-abuse",
   "metadata": {},
   "outputs": [
    {
     "data": {
      "text/plain": [
       "array(['GALJOOT', 'NAVIO', '5TH RATE', '6TH RATE', 'FRIGATE',\n",
       "       'SHIP O.T. LINE', 'SLOOP', 'FREGAT', '4TH RATE', 'SNOW',\n",
       "       '3RD RATE', 'FR�GATE', 'FREGATE', 'FREGATTE', '2ND RATE', 'NAV�O',\n",
       "       'SNAUW', 'BOMB VESSEL, SL', 'OORLOGSSCHIP', 'BOMB/EXPLORATIO',\n",
       "       'OORLOGSSNAUW', 'SLOOP (?)', 'STORESHIP', 'BRIK', 'PAQUEBOTE',\n",
       "       'CUTTER', 'FRAGATA', 'FRAGATA CORREO', 'PAQUEBOT', 'BALANDRA',\n",
       "       'BARK', 'BERGANTIN', 'SLOOP, THREE MA', '6TH RATE FRIGAT',\n",
       "       'SPIEGELRETOURSC', 'TRANSPORT', 'EXPLORATION VES', 'MERCHANT BRIG',\n",
       "       'CHAMBEQU�N', 'BUQUE', 'FRAGATA DE GUER', 'FIRESHIP', 'SNAAUW',\n",
       "       'NAV�O DE LA REA', 'BRIG', 'ADVIJSJAGT', 'KOTTER', '7TH RATE',\n",
       "       'BRIGANTIJN', '8TH RATE', 'CORVETTE', 'COTTER', 'GABARRE',\n",
       "       'BRIG/SLOOP', 'PINK', 'BARGENTIJN', 'HOEKERSCHIP', \"L'AVISO\",\n",
       "       'FLUTE', 'GOLETA GUARDA C', 'HOEKER', 'CORVETA', 'FLUIT',\n",
       "       'POLACRA', 'WHALER', 'PAKKETBOOT (BRI', 'ARMED STORESHIP', 'SLOEP',\n",
       "       'SCHOENER', 'PACKET SHIP', 'KORVET', 'STORE SHIP', 'TROOP SHIP',\n",
       "       'CORVET', 'LINIESCHIP', 'KORVET V OORLOG', 'BRIK VAN OORLOG',\n",
       "       'KOOPVAARDER', 'FREGATSCHIP', 'STEAMPOWERED WA', 'TRANSPORTSCHIP',\n",
       "       'GOLETA', 'KORVET VAN OORL', 'BRICK', 'STEAMER', 'SCHOENERBRIK',\n",
       "       'MISTICO', 'STOOMSCHIP', 'FALUCHO'], dtype=object)"
      ]
     },
     "execution_count": 9,
     "metadata": {},
     "output_type": "execute_result"
    }
   ],
   "source": [
    "types_of_ships = df_ships.ship_types.unique()\n",
    "types_of_ships"
   ]
  },
  {
   "cell_type": "code",
   "execution_count": 10,
   "id": "rolled-nursing",
   "metadata": {},
   "outputs": [
    {
     "data": {
      "text/plain": [
       "89"
      ]
     },
     "execution_count": 10,
     "metadata": {},
     "output_type": "execute_result"
    }
   ],
   "source": [
    "len(types_of_ships)"
   ]
  },
  {
   "cell_type": "markdown",
   "id": "later-macintosh",
   "metadata": {},
   "source": [
    "Now we subdivide `ship_types` into groups that represent the types of sailing/steam ships or into a general category **sailing ship**; which covers all the different translations of the word ship in all languages of the data set."
   ]
  },
  {
   "cell_type": "code",
   "execution_count": 11,
   "id": "union-crawford",
   "metadata": {},
   "outputs": [],
   "source": [
    "df = pd.DataFrame({\"Types of Ship\": types_of_ships})"
   ]
  },
  {
   "cell_type": "markdown",
   "id": "helpful-secondary",
   "metadata": {},
   "source": [
    "Bark or Barque can also be refer as barc (e.g Falucho in [catalan](https://es.wikipedia.org/wiki/Barca_levantina))"
   ]
  },
  {
   "cell_type": "code",
   "execution_count": 12,
   "id": "painful-listening",
   "metadata": {},
   "outputs": [
    {
     "data": {
      "text/html": [
       "<div>\n",
       "<style scoped>\n",
       "    .dataframe tbody tr th:only-of-type {\n",
       "        vertical-align: middle;\n",
       "    }\n",
       "\n",
       "    .dataframe tbody tr th {\n",
       "        vertical-align: top;\n",
       "    }\n",
       "\n",
       "    .dataframe thead th {\n",
       "        text-align: right;\n",
       "    }\n",
       "</style>\n",
       "<table border=\"1\" class=\"dataframe\">\n",
       "  <thead>\n",
       "    <tr style=\"text-align: right;\">\n",
       "      <th></th>\n",
       "      <th>Types of Ship</th>\n",
       "    </tr>\n",
       "  </thead>\n",
       "  <tbody>\n",
       "    <tr>\n",
       "      <th>30</th>\n",
       "      <td>BARK</td>\n",
       "    </tr>\n",
       "    <tr>\n",
       "      <th>88</th>\n",
       "      <td>FALUCHO</td>\n",
       "    </tr>\n",
       "  </tbody>\n",
       "</table>\n",
       "</div>"
      ],
      "text/plain": [
       "   Types of Ship\n",
       "30          BARK\n",
       "88       FALUCHO"
      ]
     },
     "execution_count": 12,
     "metadata": {},
     "output_type": "execute_result"
    }
   ],
   "source": [
    "Bark_or_Barque = df[df[\"Types of Ship\"].str.contains(\"|\".join([\"BARK\", \"FALUCHO\"]))]\n",
    "Bark_or_Barque"
   ]
  },
  {
   "cell_type": "code",
   "execution_count": 13,
   "id": "fifty-coaching",
   "metadata": {},
   "outputs": [
    {
     "data": {
      "text/html": [
       "<div>\n",
       "<style scoped>\n",
       "    .dataframe tbody tr th:only-of-type {\n",
       "        vertical-align: middle;\n",
       "    }\n",
       "\n",
       "    .dataframe tbody tr th {\n",
       "        vertical-align: top;\n",
       "    }\n",
       "\n",
       "    .dataframe thead th {\n",
       "        text-align: right;\n",
       "    }\n",
       "</style>\n",
       "<table border=\"1\" class=\"dataframe\">\n",
       "  <thead>\n",
       "    <tr style=\"text-align: right;\">\n",
       "      <th></th>\n",
       "      <th>Types of Ship</th>\n",
       "    </tr>\n",
       "  </thead>\n",
       "  <tbody>\n",
       "  </tbody>\n",
       "</table>\n",
       "</div>"
      ],
      "text/plain": [
       "Empty DataFrame\n",
       "Columns: [Types of Ship]\n",
       "Index: []"
      ]
     },
     "execution_count": 13,
     "metadata": {},
     "output_type": "execute_result"
    }
   ],
   "source": [
    "Barkentine_or_Barquentine = df[\n",
    "    df[\"Types of Ship\"].str.contains(\"|\".join([\"BARQUEN\", \"BARKEN\"]))\n",
    "]\n",
    "Barkentine_or_Barquentine"
   ]
  },
  {
   "cell_type": "markdown",
   "id": "mighty-migration",
   "metadata": {},
   "source": [
    "Brigantine"
   ]
  },
  {
   "cell_type": "code",
   "execution_count": 14,
   "id": "fantastic-third",
   "metadata": {},
   "outputs": [
    {
     "data": {
      "text/html": [
       "<div>\n",
       "<style scoped>\n",
       "    .dataframe tbody tr th:only-of-type {\n",
       "        vertical-align: middle;\n",
       "    }\n",
       "\n",
       "    .dataframe tbody tr th {\n",
       "        vertical-align: top;\n",
       "    }\n",
       "\n",
       "    .dataframe thead th {\n",
       "        text-align: right;\n",
       "    }\n",
       "</style>\n",
       "<table border=\"1\" class=\"dataframe\">\n",
       "  <thead>\n",
       "    <tr style=\"text-align: right;\">\n",
       "      <th></th>\n",
       "      <th>Types of Ship</th>\n",
       "    </tr>\n",
       "  </thead>\n",
       "  <tbody>\n",
       "    <tr>\n",
       "      <th>23</th>\n",
       "      <td>BRIK</td>\n",
       "    </tr>\n",
       "    <tr>\n",
       "      <th>31</th>\n",
       "      <td>BERGANTIN</td>\n",
       "    </tr>\n",
       "    <tr>\n",
       "      <th>37</th>\n",
       "      <td>MERCHANT BRIG</td>\n",
       "    </tr>\n",
       "    <tr>\n",
       "      <th>44</th>\n",
       "      <td>BRIG</td>\n",
       "    </tr>\n",
       "    <tr>\n",
       "      <th>48</th>\n",
       "      <td>BRIGANTIJN</td>\n",
       "    </tr>\n",
       "    <tr>\n",
       "      <th>53</th>\n",
       "      <td>BRIG/SLOOP</td>\n",
       "    </tr>\n",
       "    <tr>\n",
       "      <th>55</th>\n",
       "      <td>BARGENTIJN</td>\n",
       "    </tr>\n",
       "    <tr>\n",
       "      <th>76</th>\n",
       "      <td>BRIK VAN OORLOG</td>\n",
       "    </tr>\n",
       "    <tr>\n",
       "      <th>83</th>\n",
       "      <td>BRICK</td>\n",
       "    </tr>\n",
       "    <tr>\n",
       "      <th>85</th>\n",
       "      <td>SCHOENERBRIK</td>\n",
       "    </tr>\n",
       "  </tbody>\n",
       "</table>\n",
       "</div>"
      ],
      "text/plain": [
       "      Types of Ship\n",
       "23             BRIK\n",
       "31        BERGANTIN\n",
       "37    MERCHANT BRIG\n",
       "44             BRIG\n",
       "48       BRIGANTIJN\n",
       "53       BRIG/SLOOP\n",
       "55       BARGENTIJN\n",
       "76  BRIK VAN OORLOG\n",
       "83            BRICK\n",
       "85     SCHOENERBRIK"
      ]
     },
     "execution_count": 14,
     "metadata": {},
     "output_type": "execute_result"
    }
   ],
   "source": [
    "Brigantine = df[\n",
    "    df[\"Types of Ship\"].str.contains(\n",
    "        \"|\".join([\"BRIG\", \"BRIGAN\", \"BRIK\", \"BERGANTIN\", \"BRICK\", \"BARGENTIJN\"])\n",
    "    )\n",
    "]\n",
    "Brigantine"
   ]
  },
  {
   "cell_type": "code",
   "execution_count": 15,
   "id": "continuing-reviewer",
   "metadata": {},
   "outputs": [
    {
     "data": {
      "text/html": [
       "<div>\n",
       "<style scoped>\n",
       "    .dataframe tbody tr th:only-of-type {\n",
       "        vertical-align: middle;\n",
       "    }\n",
       "\n",
       "    .dataframe tbody tr th {\n",
       "        vertical-align: top;\n",
       "    }\n",
       "\n",
       "    .dataframe thead th {\n",
       "        text-align: right;\n",
       "    }\n",
       "</style>\n",
       "<table border=\"1\" class=\"dataframe\">\n",
       "  <thead>\n",
       "    <tr style=\"text-align: right;\">\n",
       "      <th></th>\n",
       "      <th>Types of Ship</th>\n",
       "    </tr>\n",
       "  </thead>\n",
       "  <tbody>\n",
       "    <tr>\n",
       "      <th>59</th>\n",
       "      <td>GOLETA GUARDA C</td>\n",
       "    </tr>\n",
       "    <tr>\n",
       "      <th>68</th>\n",
       "      <td>SCHOENER</td>\n",
       "    </tr>\n",
       "    <tr>\n",
       "      <th>81</th>\n",
       "      <td>GOLETA</td>\n",
       "    </tr>\n",
       "    <tr>\n",
       "      <th>85</th>\n",
       "      <td>SCHOENERBRIK</td>\n",
       "    </tr>\n",
       "  </tbody>\n",
       "</table>\n",
       "</div>"
      ],
      "text/plain": [
       "      Types of Ship\n",
       "59  GOLETA GUARDA C\n",
       "68         SCHOENER\n",
       "81           GOLETA\n",
       "85     SCHOENERBRIK"
      ]
     },
     "execution_count": 15,
     "metadata": {},
     "output_type": "execute_result"
    }
   ],
   "source": [
    "Schooner = df[df[\"Types of Ship\"].str.contains(\"|\".join([\"SCHO\", \"GOLET\"]))]\n",
    "Schooner"
   ]
  },
  {
   "cell_type": "code",
   "execution_count": 16,
   "id": "delayed-pickup",
   "metadata": {},
   "outputs": [
    {
     "data": {
      "text/html": [
       "<div>\n",
       "<style scoped>\n",
       "    .dataframe tbody tr th:only-of-type {\n",
       "        vertical-align: middle;\n",
       "    }\n",
       "\n",
       "    .dataframe tbody tr th {\n",
       "        vertical-align: top;\n",
       "    }\n",
       "\n",
       "    .dataframe thead th {\n",
       "        text-align: right;\n",
       "    }\n",
       "</style>\n",
       "<table border=\"1\" class=\"dataframe\">\n",
       "  <thead>\n",
       "    <tr style=\"text-align: right;\">\n",
       "      <th></th>\n",
       "      <th>Types of Ship</th>\n",
       "    </tr>\n",
       "  </thead>\n",
       "  <tbody>\n",
       "    <tr>\n",
       "      <th>4</th>\n",
       "      <td>FRIGATE</td>\n",
       "    </tr>\n",
       "    <tr>\n",
       "      <th>7</th>\n",
       "      <td>FREGAT</td>\n",
       "    </tr>\n",
       "    <tr>\n",
       "      <th>11</th>\n",
       "      <td>FR�GATE</td>\n",
       "    </tr>\n",
       "    <tr>\n",
       "      <th>12</th>\n",
       "      <td>FREGATE</td>\n",
       "    </tr>\n",
       "    <tr>\n",
       "      <th>13</th>\n",
       "      <td>FREGATTE</td>\n",
       "    </tr>\n",
       "    <tr>\n",
       "      <th>26</th>\n",
       "      <td>FRAGATA</td>\n",
       "    </tr>\n",
       "    <tr>\n",
       "      <th>27</th>\n",
       "      <td>FRAGATA CORREO</td>\n",
       "    </tr>\n",
       "    <tr>\n",
       "      <th>33</th>\n",
       "      <td>6TH RATE FRIGAT</td>\n",
       "    </tr>\n",
       "    <tr>\n",
       "      <th>40</th>\n",
       "      <td>FRAGATA DE GUER</td>\n",
       "    </tr>\n",
       "    <tr>\n",
       "      <th>78</th>\n",
       "      <td>FREGATSCHIP</td>\n",
       "    </tr>\n",
       "  </tbody>\n",
       "</table>\n",
       "</div>"
      ],
      "text/plain": [
       "      Types of Ship\n",
       "4           FRIGATE\n",
       "7            FREGAT\n",
       "11          FR�GATE\n",
       "12          FREGATE\n",
       "13         FREGATTE\n",
       "26          FRAGATA\n",
       "27   FRAGATA CORREO\n",
       "33  6TH RATE FRIGAT\n",
       "40  FRAGATA DE GUER\n",
       "78      FREGATSCHIP"
      ]
     },
     "execution_count": 16,
     "metadata": {},
     "output_type": "execute_result"
    }
   ],
   "source": [
    "Frigate = df[df[\"Types of Ship\"].str.contains(\"GAT\", regex=False)]\n",
    "Frigate"
   ]
  },
  {
   "cell_type": "code",
   "execution_count": 17,
   "id": "mathematical-links",
   "metadata": {},
   "outputs": [
    {
     "data": {
      "text/html": [
       "<div>\n",
       "<style scoped>\n",
       "    .dataframe tbody tr th:only-of-type {\n",
       "        vertical-align: middle;\n",
       "    }\n",
       "\n",
       "    .dataframe tbody tr th {\n",
       "        vertical-align: top;\n",
       "    }\n",
       "\n",
       "    .dataframe thead th {\n",
       "        text-align: right;\n",
       "    }\n",
       "</style>\n",
       "<table border=\"1\" class=\"dataframe\">\n",
       "  <thead>\n",
       "    <tr style=\"text-align: right;\">\n",
       "      <th></th>\n",
       "      <th>Types of Ship</th>\n",
       "    </tr>\n",
       "  </thead>\n",
       "  <tbody>\n",
       "    <tr>\n",
       "      <th>79</th>\n",
       "      <td>STEAMPOWERED WA</td>\n",
       "    </tr>\n",
       "    <tr>\n",
       "      <th>84</th>\n",
       "      <td>STEAMER</td>\n",
       "    </tr>\n",
       "  </tbody>\n",
       "</table>\n",
       "</div>"
      ],
      "text/plain": [
       "      Types of Ship\n",
       "79  STEAMPOWERED WA\n",
       "84          STEAMER"
      ]
     },
     "execution_count": 17,
     "metadata": {},
     "output_type": "execute_result"
    }
   ],
   "source": [
    "Steam = df[df[\"Types of Ship\"].str.contains(\"STEAM\", regex=False)]\n",
    "Steam"
   ]
  },
  {
   "cell_type": "code",
   "execution_count": 18,
   "id": "congressional-fellow",
   "metadata": {},
   "outputs": [
    {
     "data": {
      "text/html": [
       "<div>\n",
       "<style scoped>\n",
       "    .dataframe tbody tr th:only-of-type {\n",
       "        vertical-align: middle;\n",
       "    }\n",
       "\n",
       "    .dataframe tbody tr th {\n",
       "        vertical-align: top;\n",
       "    }\n",
       "\n",
       "    .dataframe thead th {\n",
       "        text-align: right;\n",
       "    }\n",
       "</style>\n",
       "<table border=\"1\" class=\"dataframe\">\n",
       "  <thead>\n",
       "    <tr style=\"text-align: right;\">\n",
       "      <th></th>\n",
       "      <th>Types of Ship</th>\n",
       "    </tr>\n",
       "  </thead>\n",
       "  <tbody>\n",
       "    <tr>\n",
       "      <th>50</th>\n",
       "      <td>CORVETTE</td>\n",
       "    </tr>\n",
       "    <tr>\n",
       "      <th>61</th>\n",
       "      <td>CORVETA</td>\n",
       "    </tr>\n",
       "    <tr>\n",
       "      <th>70</th>\n",
       "      <td>KORVET</td>\n",
       "    </tr>\n",
       "    <tr>\n",
       "      <th>73</th>\n",
       "      <td>CORVET</td>\n",
       "    </tr>\n",
       "    <tr>\n",
       "      <th>75</th>\n",
       "      <td>KORVET V OORLOG</td>\n",
       "    </tr>\n",
       "    <tr>\n",
       "      <th>82</th>\n",
       "      <td>KORVET VAN OORL</td>\n",
       "    </tr>\n",
       "  </tbody>\n",
       "</table>\n",
       "</div>"
      ],
      "text/plain": [
       "      Types of Ship\n",
       "50         CORVETTE\n",
       "61          CORVETA\n",
       "70           KORVET\n",
       "73           CORVET\n",
       "75  KORVET V OORLOG\n",
       "82  KORVET VAN OORL"
      ]
     },
     "execution_count": 18,
     "metadata": {},
     "output_type": "execute_result"
    }
   ],
   "source": [
    "Corvet = df[df[\"Types of Ship\"].str.contains(\"|\".join([\"KORV\", \"CORVE\"]))]\n",
    "Corvet"
   ]
  },
  {
   "cell_type": "code",
   "execution_count": 19,
   "id": "serial-checklist",
   "metadata": {},
   "outputs": [
    {
     "data": {
      "text/html": [
       "<div>\n",
       "<style scoped>\n",
       "    .dataframe tbody tr th:only-of-type {\n",
       "        vertical-align: middle;\n",
       "    }\n",
       "\n",
       "    .dataframe tbody tr th {\n",
       "        vertical-align: top;\n",
       "    }\n",
       "\n",
       "    .dataframe thead th {\n",
       "        text-align: right;\n",
       "    }\n",
       "</style>\n",
       "<table border=\"1\" class=\"dataframe\">\n",
       "  <thead>\n",
       "    <tr style=\"text-align: right;\">\n",
       "      <th></th>\n",
       "      <th>Types of Ship</th>\n",
       "    </tr>\n",
       "  </thead>\n",
       "  <tbody>\n",
       "    <tr>\n",
       "      <th>25</th>\n",
       "      <td>CUTTER</td>\n",
       "    </tr>\n",
       "    <tr>\n",
       "      <th>46</th>\n",
       "      <td>KOTTER</td>\n",
       "    </tr>\n",
       "    <tr>\n",
       "      <th>51</th>\n",
       "      <td>COTTER</td>\n",
       "    </tr>\n",
       "  </tbody>\n",
       "</table>\n",
       "</div>"
      ],
      "text/plain": [
       "   Types of Ship\n",
       "25        CUTTER\n",
       "46        KOTTER\n",
       "51        COTTER"
      ]
     },
     "execution_count": 19,
     "metadata": {},
     "output_type": "execute_result"
    }
   ],
   "source": [
    "Cotter = df[df[\"Types of Ship\"].str.contains(\"|\".join([\"KOTT\", \"COTT\", \"CUTT\"]))]\n",
    "Cotter"
   ]
  },
  {
   "cell_type": "code",
   "execution_count": 20,
   "id": "consolidated-ireland",
   "metadata": {},
   "outputs": [
    {
     "data": {
      "text/html": [
       "<div>\n",
       "<style scoped>\n",
       "    .dataframe tbody tr th:only-of-type {\n",
       "        vertical-align: middle;\n",
       "    }\n",
       "\n",
       "    .dataframe tbody tr th {\n",
       "        vertical-align: top;\n",
       "    }\n",
       "\n",
       "    .dataframe thead th {\n",
       "        text-align: right;\n",
       "    }\n",
       "</style>\n",
       "<table border=\"1\" class=\"dataframe\">\n",
       "  <thead>\n",
       "    <tr style=\"text-align: right;\">\n",
       "      <th></th>\n",
       "      <th>Types of Ship</th>\n",
       "    </tr>\n",
       "  </thead>\n",
       "  <tbody>\n",
       "    <tr>\n",
       "      <th>6</th>\n",
       "      <td>SLOOP</td>\n",
       "    </tr>\n",
       "    <tr>\n",
       "      <th>21</th>\n",
       "      <td>SLOOP (?)</td>\n",
       "    </tr>\n",
       "    <tr>\n",
       "      <th>32</th>\n",
       "      <td>SLOOP, THREE MA</td>\n",
       "    </tr>\n",
       "    <tr>\n",
       "      <th>53</th>\n",
       "      <td>BRIG/SLOOP</td>\n",
       "    </tr>\n",
       "    <tr>\n",
       "      <th>67</th>\n",
       "      <td>SLOEP</td>\n",
       "    </tr>\n",
       "  </tbody>\n",
       "</table>\n",
       "</div>"
      ],
      "text/plain": [
       "      Types of Ship\n",
       "6             SLOOP\n",
       "21        SLOOP (?)\n",
       "32  SLOOP, THREE MA\n",
       "53       BRIG/SLOOP\n",
       "67            SLOEP"
      ]
     },
     "execution_count": 20,
     "metadata": {},
     "output_type": "execute_result"
    }
   ],
   "source": [
    "Sloop = df[df[\"Types of Ship\"].str.contains(\"|\".join([\"SLOOP\", \"SLOEP\"]))]\n",
    "Sloop"
   ]
  },
  {
   "cell_type": "code",
   "execution_count": 21,
   "id": "actual-sheffield",
   "metadata": {},
   "outputs": [
    {
     "data": {
      "text/html": [
       "<div>\n",
       "<style scoped>\n",
       "    .dataframe tbody tr th:only-of-type {\n",
       "        vertical-align: middle;\n",
       "    }\n",
       "\n",
       "    .dataframe tbody tr th {\n",
       "        vertical-align: top;\n",
       "    }\n",
       "\n",
       "    .dataframe thead th {\n",
       "        text-align: right;\n",
       "    }\n",
       "</style>\n",
       "<table border=\"1\" class=\"dataframe\">\n",
       "  <thead>\n",
       "    <tr style=\"text-align: right;\">\n",
       "      <th></th>\n",
       "      <th>Types of Ship</th>\n",
       "    </tr>\n",
       "  </thead>\n",
       "  <tbody>\n",
       "    <tr>\n",
       "      <th>9</th>\n",
       "      <td>SNOW</td>\n",
       "    </tr>\n",
       "    <tr>\n",
       "      <th>16</th>\n",
       "      <td>SNAUW</td>\n",
       "    </tr>\n",
       "    <tr>\n",
       "      <th>20</th>\n",
       "      <td>OORLOGSSNAUW</td>\n",
       "    </tr>\n",
       "    <tr>\n",
       "      <th>42</th>\n",
       "      <td>SNAAUW</td>\n",
       "    </tr>\n",
       "  </tbody>\n",
       "</table>\n",
       "</div>"
      ],
      "text/plain": [
       "   Types of Ship\n",
       "9           SNOW\n",
       "16         SNAUW\n",
       "20  OORLOGSSNAUW\n",
       "42        SNAAUW"
      ]
     },
     "execution_count": 21,
     "metadata": {},
     "output_type": "execute_result"
    }
   ],
   "source": [
    "Snow = df[df[\"Types of Ship\"].str.contains(\"|\".join([\"SNOW\", \"SNA\"]))]\n",
    "Snow"
   ]
  },
  {
   "cell_type": "code",
   "execution_count": 22,
   "id": "indie-trading",
   "metadata": {},
   "outputs": [
    {
     "data": {
      "text/html": [
       "<div>\n",
       "<style scoped>\n",
       "    .dataframe tbody tr th:only-of-type {\n",
       "        vertical-align: middle;\n",
       "    }\n",
       "\n",
       "    .dataframe tbody tr th {\n",
       "        vertical-align: top;\n",
       "    }\n",
       "\n",
       "    .dataframe thead th {\n",
       "        text-align: right;\n",
       "    }\n",
       "</style>\n",
       "<table border=\"1\" class=\"dataframe\">\n",
       "  <thead>\n",
       "    <tr style=\"text-align: right;\">\n",
       "      <th></th>\n",
       "      <th>Types of Ship</th>\n",
       "    </tr>\n",
       "  </thead>\n",
       "  <tbody>\n",
       "    <tr>\n",
       "      <th>2</th>\n",
       "      <td>5TH RATE</td>\n",
       "    </tr>\n",
       "    <tr>\n",
       "      <th>3</th>\n",
       "      <td>6TH RATE</td>\n",
       "    </tr>\n",
       "    <tr>\n",
       "      <th>8</th>\n",
       "      <td>4TH RATE</td>\n",
       "    </tr>\n",
       "    <tr>\n",
       "      <th>10</th>\n",
       "      <td>3RD RATE</td>\n",
       "    </tr>\n",
       "    <tr>\n",
       "      <th>14</th>\n",
       "      <td>2ND RATE</td>\n",
       "    </tr>\n",
       "    <tr>\n",
       "      <th>33</th>\n",
       "      <td>6TH RATE FRIGAT</td>\n",
       "    </tr>\n",
       "    <tr>\n",
       "      <th>47</th>\n",
       "      <td>7TH RATE</td>\n",
       "    </tr>\n",
       "    <tr>\n",
       "      <th>49</th>\n",
       "      <td>8TH RATE</td>\n",
       "    </tr>\n",
       "    <tr>\n",
       "      <th>57</th>\n",
       "      <td>L'AVISO</td>\n",
       "    </tr>\n",
       "  </tbody>\n",
       "</table>\n",
       "</div>"
      ],
      "text/plain": [
       "      Types of Ship\n",
       "2          5TH RATE\n",
       "3          6TH RATE\n",
       "8          4TH RATE\n",
       "10         3RD RATE\n",
       "14         2ND RATE\n",
       "33  6TH RATE FRIGAT\n",
       "47         7TH RATE\n",
       "49         8TH RATE\n",
       "57          L'AVISO"
      ]
     },
     "execution_count": 22,
     "metadata": {},
     "output_type": "execute_result"
    }
   ],
   "source": [
    "Naval_salining_ships = df[\n",
    "    df[\"Types of Ship\"].str.contains(\"|\".join([\"TH RATE\", \"AVISO\", \"RATE\"]))\n",
    "]\n",
    "Naval_salining_ships"
   ]
  },
  {
   "cell_type": "code",
   "execution_count": 23,
   "id": "endless-valve",
   "metadata": {},
   "outputs": [
    {
     "data": {
      "text/html": [
       "<div>\n",
       "<style scoped>\n",
       "    .dataframe tbody tr th:only-of-type {\n",
       "        vertical-align: middle;\n",
       "    }\n",
       "\n",
       "    .dataframe tbody tr th {\n",
       "        vertical-align: top;\n",
       "    }\n",
       "\n",
       "    .dataframe thead th {\n",
       "        text-align: right;\n",
       "    }\n",
       "</style>\n",
       "<table border=\"1\" class=\"dataframe\">\n",
       "  <thead>\n",
       "    <tr style=\"text-align: right;\">\n",
       "      <th></th>\n",
       "      <th>Types of Ship</th>\n",
       "    </tr>\n",
       "  </thead>\n",
       "  <tbody>\n",
       "    <tr>\n",
       "      <th>34</th>\n",
       "      <td>SPIEGELRETOURSC</td>\n",
       "    </tr>\n",
       "  </tbody>\n",
       "</table>\n",
       "</div>"
      ],
      "text/plain": [
       "      Types of Ship\n",
       "34  SPIEGELRETOURSC"
      ]
     },
     "execution_count": 23,
     "metadata": {},
     "output_type": "execute_result"
    }
   ],
   "source": [
    "East_Indianman = df[df[\"Types of Ship\"].str.contains(\"SPIEGELRETOURSC\")]\n",
    "East_Indianman"
   ]
  },
  {
   "cell_type": "code",
   "execution_count": 24,
   "id": "chinese-template",
   "metadata": {},
   "outputs": [
    {
     "data": {
      "text/html": [
       "<div>\n",
       "<style scoped>\n",
       "    .dataframe tbody tr th:only-of-type {\n",
       "        vertical-align: middle;\n",
       "    }\n",
       "\n",
       "    .dataframe tbody tr th {\n",
       "        vertical-align: top;\n",
       "    }\n",
       "\n",
       "    .dataframe thead th {\n",
       "        text-align: right;\n",
       "    }\n",
       "</style>\n",
       "<table border=\"1\" class=\"dataframe\">\n",
       "  <thead>\n",
       "    <tr style=\"text-align: right;\">\n",
       "      <th></th>\n",
       "      <th>Types of Ship</th>\n",
       "    </tr>\n",
       "  </thead>\n",
       "  <tbody>\n",
       "    <tr>\n",
       "      <th>52</th>\n",
       "      <td>GABARRE</td>\n",
       "    </tr>\n",
       "  </tbody>\n",
       "</table>\n",
       "</div>"
      ],
      "text/plain": [
       "   Types of Ship\n",
       "52       GABARRE"
      ]
     },
     "execution_count": 24,
     "metadata": {},
     "output_type": "execute_result"
    }
   ],
   "source": [
    "Scow = df[df[\"Types of Ship\"].str.contains(\"GABARRE\")]\n",
    "Scow"
   ]
  },
  {
   "cell_type": "code",
   "execution_count": 25,
   "id": "seven-romantic",
   "metadata": {},
   "outputs": [
    {
     "data": {
      "text/html": [
       "<div>\n",
       "<style scoped>\n",
       "    .dataframe tbody tr th:only-of-type {\n",
       "        vertical-align: middle;\n",
       "    }\n",
       "\n",
       "    .dataframe tbody tr th {\n",
       "        vertical-align: top;\n",
       "    }\n",
       "\n",
       "    .dataframe thead th {\n",
       "        text-align: right;\n",
       "    }\n",
       "</style>\n",
       "<table border=\"1\" class=\"dataframe\">\n",
       "  <thead>\n",
       "    <tr style=\"text-align: right;\">\n",
       "      <th></th>\n",
       "      <th>Types of Ship</th>\n",
       "    </tr>\n",
       "  </thead>\n",
       "  <tbody>\n",
       "    <tr>\n",
       "      <th>58</th>\n",
       "      <td>FLUTE</td>\n",
       "    </tr>\n",
       "    <tr>\n",
       "      <th>62</th>\n",
       "      <td>FLUIT</td>\n",
       "    </tr>\n",
       "  </tbody>\n",
       "</table>\n",
       "</div>"
      ],
      "text/plain": [
       "   Types of Ship\n",
       "58         FLUTE\n",
       "62         FLUIT"
      ]
     },
     "execution_count": 25,
     "metadata": {},
     "output_type": "execute_result"
    }
   ],
   "source": [
    "Fluyt = df[df[\"Types of Ship\"].str.contains(\"FLU\")]\n",
    "Fluyt"
   ]
  },
  {
   "cell_type": "code",
   "execution_count": 26,
   "id": "cutting-restaurant",
   "metadata": {},
   "outputs": [
    {
     "data": {
      "text/html": [
       "<div>\n",
       "<style scoped>\n",
       "    .dataframe tbody tr th:only-of-type {\n",
       "        vertical-align: middle;\n",
       "    }\n",
       "\n",
       "    .dataframe tbody tr th {\n",
       "        vertical-align: top;\n",
       "    }\n",
       "\n",
       "    .dataframe thead th {\n",
       "        text-align: right;\n",
       "    }\n",
       "</style>\n",
       "<table border=\"1\" class=\"dataframe\">\n",
       "  <thead>\n",
       "    <tr style=\"text-align: right;\">\n",
       "      <th></th>\n",
       "      <th>Types of Ship</th>\n",
       "    </tr>\n",
       "  </thead>\n",
       "  <tbody>\n",
       "    <tr>\n",
       "      <th>1</th>\n",
       "      <td>NAVIO</td>\n",
       "    </tr>\n",
       "    <tr>\n",
       "      <th>5</th>\n",
       "      <td>SHIP O.T. LINE</td>\n",
       "    </tr>\n",
       "    <tr>\n",
       "      <th>15</th>\n",
       "      <td>NAV�O</td>\n",
       "    </tr>\n",
       "    <tr>\n",
       "      <th>17</th>\n",
       "      <td>BOMB VESSEL, SL</td>\n",
       "    </tr>\n",
       "    <tr>\n",
       "      <th>18</th>\n",
       "      <td>OORLOGSSCHIP</td>\n",
       "    </tr>\n",
       "    <tr>\n",
       "      <th>19</th>\n",
       "      <td>BOMB/EXPLORATIO</td>\n",
       "    </tr>\n",
       "    <tr>\n",
       "      <th>22</th>\n",
       "      <td>STORESHIP</td>\n",
       "    </tr>\n",
       "    <tr>\n",
       "      <th>24</th>\n",
       "      <td>PAQUEBOTE</td>\n",
       "    </tr>\n",
       "    <tr>\n",
       "      <th>28</th>\n",
       "      <td>PAQUEBOT</td>\n",
       "    </tr>\n",
       "    <tr>\n",
       "      <th>29</th>\n",
       "      <td>BALANDRA</td>\n",
       "    </tr>\n",
       "    <tr>\n",
       "      <th>35</th>\n",
       "      <td>TRANSPORT</td>\n",
       "    </tr>\n",
       "    <tr>\n",
       "      <th>36</th>\n",
       "      <td>EXPLORATION VES</td>\n",
       "    </tr>\n",
       "    <tr>\n",
       "      <th>38</th>\n",
       "      <td>CHAMBEQU�N</td>\n",
       "    </tr>\n",
       "    <tr>\n",
       "      <th>39</th>\n",
       "      <td>BUQUE</td>\n",
       "    </tr>\n",
       "    <tr>\n",
       "      <th>41</th>\n",
       "      <td>FIRESHIP</td>\n",
       "    </tr>\n",
       "    <tr>\n",
       "      <th>43</th>\n",
       "      <td>NAV�O DE LA REA</td>\n",
       "    </tr>\n",
       "    <tr>\n",
       "      <th>54</th>\n",
       "      <td>PINK</td>\n",
       "    </tr>\n",
       "    <tr>\n",
       "      <th>56</th>\n",
       "      <td>HOEKERSCHIP</td>\n",
       "    </tr>\n",
       "    <tr>\n",
       "      <th>60</th>\n",
       "      <td>HOEKER</td>\n",
       "    </tr>\n",
       "    <tr>\n",
       "      <th>63</th>\n",
       "      <td>POLACRA</td>\n",
       "    </tr>\n",
       "    <tr>\n",
       "      <th>65</th>\n",
       "      <td>PAKKETBOOT (BRI</td>\n",
       "    </tr>\n",
       "    <tr>\n",
       "      <th>66</th>\n",
       "      <td>ARMED STORESHIP</td>\n",
       "    </tr>\n",
       "    <tr>\n",
       "      <th>69</th>\n",
       "      <td>PACKET SHIP</td>\n",
       "    </tr>\n",
       "    <tr>\n",
       "      <th>71</th>\n",
       "      <td>STORE SHIP</td>\n",
       "    </tr>\n",
       "    <tr>\n",
       "      <th>72</th>\n",
       "      <td>TROOP SHIP</td>\n",
       "    </tr>\n",
       "    <tr>\n",
       "      <th>74</th>\n",
       "      <td>LINIESCHIP</td>\n",
       "    </tr>\n",
       "    <tr>\n",
       "      <th>77</th>\n",
       "      <td>KOOPVAARDER</td>\n",
       "    </tr>\n",
       "    <tr>\n",
       "      <th>78</th>\n",
       "      <td>FREGATSCHIP</td>\n",
       "    </tr>\n",
       "    <tr>\n",
       "      <th>80</th>\n",
       "      <td>TRANSPORTSCHIP</td>\n",
       "    </tr>\n",
       "    <tr>\n",
       "      <th>87</th>\n",
       "      <td>STOOMSCHIP</td>\n",
       "    </tr>\n",
       "  </tbody>\n",
       "</table>\n",
       "</div>"
      ],
      "text/plain": [
       "      Types of Ship\n",
       "1             NAVIO\n",
       "5    SHIP O.T. LINE\n",
       "15            NAV�O\n",
       "17  BOMB VESSEL, SL\n",
       "18     OORLOGSSCHIP\n",
       "19  BOMB/EXPLORATIO\n",
       "22        STORESHIP\n",
       "24        PAQUEBOTE\n",
       "28         PAQUEBOT\n",
       "29         BALANDRA\n",
       "35        TRANSPORT\n",
       "36  EXPLORATION VES\n",
       "38       CHAMBEQU�N\n",
       "39            BUQUE\n",
       "41         FIRESHIP\n",
       "43  NAV�O DE LA REA\n",
       "54             PINK\n",
       "56      HOEKERSCHIP\n",
       "60           HOEKER\n",
       "63          POLACRA\n",
       "65  PAKKETBOOT (BRI\n",
       "66  ARMED STORESHIP\n",
       "69      PACKET SHIP\n",
       "71       STORE SHIP\n",
       "72       TROOP SHIP\n",
       "74       LINIESCHIP\n",
       "77      KOOPVAARDER\n",
       "78      FREGATSCHIP\n",
       "80   TRANSPORTSCHIP\n",
       "87       STOOMSCHIP"
      ]
     },
     "execution_count": 26,
     "metadata": {},
     "output_type": "execute_result"
    }
   ],
   "source": [
    "Ships_all_languages = df[\n",
    "    df[\"Types of Ship\"].str.contains(\n",
    "        \"|\".join(\n",
    "            [\n",
    "                \"SHIP\",\n",
    "                \"PAQUE\",\n",
    "                \"PAKKET\",\n",
    "                \"BUQUE\",\n",
    "                \"VES\",\n",
    "                \"SCHIP\",\n",
    "                \"NAV\",\n",
    "                \"TRANSP\",\n",
    "                \"EXPLOR\",\n",
    "                \"CHAMBE\",\n",
    "                \"BALANDRA\",\n",
    "                \"PINK\",\n",
    "                \"HOEKER\",\n",
    "                \"POLACRA\",\n",
    "                \"KOOP\",\n",
    "            ]\n",
    "        )\n",
    "    )\n",
    "]\n",
    "Ships_all_languages"
   ]
  },
  {
   "cell_type": "code",
   "execution_count": 27,
   "id": "satisfied-butterfly",
   "metadata": {},
   "outputs": [
    {
     "data": {
      "text/plain": [
       "80"
      ]
     },
     "execution_count": 27,
     "metadata": {},
     "output_type": "execute_result"
    }
   ],
   "source": [
    "total = (\n",
    "    len(Bark_or_Barque)\n",
    "    + len(Barkentine_or_Barquentine)\n",
    "    + len(Brigantine)\n",
    "    + len(Schooner)\n",
    "    + len(Frigate)\n",
    "    + len(Steam)\n",
    "    + len(Corvet)\n",
    "    + len(Cotter)\n",
    "    + len(Sloop)\n",
    "    + len(Snow)\n",
    "    + len(Ships_all_languages)\n",
    "    + len(East_Indianman)\n",
    "    + len(Scow)\n",
    "    + len(Fluyt)\n",
    ")\n",
    "total"
   ]
  },
  {
   "cell_type": "markdown",
   "id": "broad-transition",
   "metadata": {},
   "source": [
    "There are about 9 sub types that are hard to classify and more research is needed."
   ]
  },
  {
   "cell_type": "markdown",
   "id": "waiting-syndicate",
   "metadata": {},
   "source": [
    "- AT units"
   ]
  },
  {
   "cell_type": "code",
   "execution_count": 28,
   "id": "communist-selection",
   "metadata": {},
   "outputs": [
    {
     "data": {
      "text/plain": [
       "array(['CELSIUS', 'FAHRENHEIT', 'REAMUR', 'REAUMUR'], dtype=object)"
      ]
     },
     "execution_count": 28,
     "metadata": {},
     "output_type": "execute_result"
    }
   ],
   "source": [
    "df_atu.at_units.unique()"
   ]
  },
  {
   "cell_type": "markdown",
   "id": "unnecessary-binary",
   "metadata": {},
   "source": [
    "- SST units"
   ]
  },
  {
   "cell_type": "code",
   "execution_count": 29,
   "id": "welsh-legend",
   "metadata": {},
   "outputs": [
    {
     "data": {
      "text/plain": [
       "array(['FAHRENHEIT'], dtype=object)"
      ]
     },
     "execution_count": 29,
     "metadata": {},
     "output_type": "execute_result"
    }
   ],
   "source": [
    "df_sstu.sst_units.unique()"
   ]
  },
  {
   "cell_type": "markdown",
   "id": "hollow-rings",
   "metadata": {},
   "source": [
    "- Air pressure units"
   ]
  },
  {
   "cell_type": "code",
   "execution_count": 30,
   "id": "breeding-header",
   "metadata": {},
   "outputs": [
    {
     "data": {
      "text/plain": [
       "array(['INCHES MERCURY', 'DLS12FRANS', 'DLS100', 'DLS10', 'DLS1004',\n",
       "       'DLS1204F', 'DLS1200R', 'DLS1204R', 'INCHES MERCURY60', 'DLS1104R',\n",
       "       'DLS1200', 'DLS12R', 'MILLIMETERS MERCURY', 'RHINE INCHE MERCURY',\n",
       "       'DLS1004A', 'DLS12', 'DLS1204', 'DLS1004R', 'DLS10R',\n",
       "       'AMST INCHES MERCURY'], dtype=object)"
      ]
     },
     "execution_count": 30,
     "metadata": {},
     "output_type": "execute_result"
    }
   ],
   "source": [
    "df_apu.ap_units.unique()"
   ]
  },
  {
   "cell_type": "markdown",
   "id": "religious-apollo",
   "metadata": {},
   "source": [
    "The **DLS** unit format is believed to stand for Dutch Lines and the 12R or 10R means that were reduced to 12 or 10 Réaumur (like pressures reduced to 32F). This is still an ongoing discussion."
   ]
  },
  {
   "cell_type": "markdown",
   "id": "spiritual-bulgarian",
   "metadata": {},
   "source": [
    "- Attached thermometer units"
   ]
  },
  {
   "cell_type": "code",
   "execution_count": 31,
   "id": "blank-pregnancy",
   "metadata": {},
   "outputs": [
    {
     "data": {
      "text/plain": [
       "array(['FAHRENHEIT'], dtype=object)"
      ]
     },
     "execution_count": 31,
     "metadata": {},
     "output_type": "execute_result"
    }
   ],
   "source": [
    "df_bartu.bart_units.unique()"
   ]
  },
  {
   "cell_type": "markdown",
   "id": "early-shelf",
   "metadata": {},
   "source": [
    "- Longitude Units"
   ]
  },
  {
   "cell_type": "code",
   "execution_count": 32,
   "id": "beginning-posting",
   "metadata": {},
   "outputs": [
    {
     "data": {
      "text/plain": [
       "array(['360 DEGREES', '180 DEGREES', 'UNKNOWN', '180 GRADEN'],\n",
       "      dtype=object)"
      ]
     },
     "execution_count": 32,
     "metadata": {},
     "output_type": "execute_result"
    }
   ],
   "source": [
    "df_lonu.lon_units.unique()"
   ]
  },
  {
   "cell_type": "markdown",
   "id": "formal-appreciation",
   "metadata": {},
   "source": [
    "- Barometer types:"
   ]
  },
  {
   "cell_type": "code",
   "execution_count": 33,
   "id": "fatty-demographic",
   "metadata": {},
   "outputs": [
    {
     "data": {
      "text/plain": [
       "array(['MERCURY', 'SYMPISIOMETER', 'ANEROID'], dtype=object)"
      ]
     },
     "execution_count": 33,
     "metadata": {},
     "output_type": "execute_result"
    }
   ],
   "source": [
    "df_barot.baro_types.unique()"
   ]
  },
  {
   "cell_type": "markdown",
   "id": "involved-pressure",
   "metadata": {},
   "source": [
    "- Other units for which there was no information"
   ]
  },
  {
   "cell_type": "code",
   "execution_count": 34,
   "id": "declared-science",
   "metadata": {},
   "outputs": [
    {
     "data": {
      "text/plain": [
       "array(['UNKNOWN', 'DUITSE', 'LEAGUES', 'NM', 'MILES', 'MILLAS', 'LEGUAS',\n",
       "       'MILE', 'MILAS', 'NAUTICA', 'LIEUES', 'MIJLEN', 'MIJL', 'ENGELSE'],\n",
       "      dtype=object)"
      ]
     },
     "execution_count": 34,
     "metadata": {},
     "output_type": "execute_result"
    }
   ],
   "source": [
    "df_distu_land.distance_units_to_land.unique()"
   ]
  },
  {
   "cell_type": "code",
   "execution_count": 35,
   "id": "about-orchestra",
   "metadata": {},
   "outputs": [
    {
     "data": {
      "text/plain": [
       "array(['UNKNOWN', 'DUITSE', 'DESCONO', 'LEAGUES', 'NM', 'MILES', 'MILLAS',\n",
       "       'LEGUAS', 'NAUTICA', 'ENGLISH', 'MILLAS/', 'M. POR', 'LEGUAS?',\n",
       "       'MIJLEN', 'ENGELSE'], dtype=object)"
      ]
     },
     "execution_count": 35,
     "metadata": {},
     "output_type": "execute_result"
    }
   ],
   "source": [
    "df_distu_travel.distance_units_travelled.unique()"
   ]
  },
  {
   "cell_type": "code",
   "execution_count": 36,
   "id": "elegant-bargain",
   "metadata": {},
   "outputs": [
    {
     "data": {
      "text/plain": [
       "array(['CURRENT IN MILES PER HOUR', 'CURRENT IN NM',\n",
       "       'CURRENT SPEED IN CABLES/FTMS PER H', 'CURRENT SPEED IN FATHAMS',\n",
       "       'CURRENT SPEED IN FATHAMS PER HOUR', 'CURRENT SPEED IN FATHOMS',\n",
       "       'CURRENT SPEED IN FATHOMS PER HOUR', 'CURRENT SPEED IN KNOTS',\n",
       "       'CURRENT SPEED IN KNOTS/FTMS PER H', 'CURRENT SPEED IN KTS',\n",
       "       'CURRENT SPEED IN MILES', 'CURRENT SPEED IN MILES PER HOUR',\n",
       "       'CURRENT SPEED IN MILES/FTMS PER H', 'CURRENT SPEED IN NM',\n",
       "       'CURRENT IN MILES', 'CURRENT SPEED IN MILES PER DAY',\n",
       "       'CURRENT SPEED IN MPH', 'CURRENT SPEED IN NAUTICAL MILES PER DAY',\n",
       "       'CURRENT SPEED IN MILES AND FTMS PER HOUR',\n",
       "       'CURRENT SPEED IN KNOTS AND FATHOMS PER HOUR',\n",
       "       'CURRENT SPEED IN LEAGUES', 'CURRENT SPEED IN KNOT',\n",
       "       'CURRENT SPEED IN MILES PER WATCH',\n",
       "       'CURRENT SPEED IN KNOTS PER HOUR',\n",
       "       'CURRENT SPEED IN KNOTS AND FATHOMS PER H',\n",
       "       'CURRENT SPEED IN FTHMS', 'CURRENT SPEED IN KT',\n",
       "       'CURRENT SPEED IN FTH/PH', 'CURRENTS SPEED IN MILES PER DAY',\n",
       "       'CURRENTS SPEED IN MILES PER HOUR', 'STROOM IN MIJLEN',\n",
       "       'CURRENT SPEED IN KNOTS AND FATHOMS',\n",
       "       'CURRENT SPEED IN KNOTST PER HOURR',\n",
       "       'CURRENT SPEED IN KTS AND FATHOMS PER HOUR',\n",
       "       'CURRENT IN FATHOMS PER HOUR', 'CURRENT SPEED IN MILE',\n",
       "       'CURRENT SPEED IN MILES AN HOUR', 'CURRENT IN FATHOMS',\n",
       "       'CURRENT IN MILES PER DAY', 'CURRENT SPEED IN FTPH',\n",
       "       'CURRENT IN MILES  SINCE DEPARTURE',\n",
       "       'CURRENT SPEED IN MILE PER HOUR', 'CURRENT SPEED IN FPH',\n",
       "       'CURRENT SPEED IN MILE AN HOUR',\n",
       "       'CURRENT SPEED IN KT AND FTM PER HOUR',\n",
       "       'CURRENT SPEED 1M & 6F /HR', 'CURRENT SPEED IN MILES PER 2 DAYS',\n",
       "       'CURRENT IN 1 DAY', 'CURRENT IN 2 DAYS',\n",
       "       'CURRENT IN MILES IN 2 DAYS', 'CURRENT DISTANCE IN 24 HOURS',\n",
       "       'CURRENT IN KNOTS', 'CURRENT SPEED IN MILES IN 2 DAYS',\n",
       "       'CURRENT SPEED IN MILES IN 3 DAYS',\n",
       "       'CURRENT SPEED IN MILES IN 4 DAYS', 'CURRENT IN 72 HOURS',\n",
       "       'CURRENT IN 24 HRS', 'CURRENT SPEED IN MILES PER TWO DAYS',\n",
       "       'CURRENT DISTANCE IN MILES IN 48 HRS',\n",
       "       'STROOM IN MIJLEN IN 48 UUR', 'CURRENT SPEED IN MILES IN 48 HOURS',\n",
       "       'CURRENT SPEED IN MILES IN 72 HOURS', 'CURRENT IN 48 HOURS',\n",
       "       'CURRENT SPEED IN MILES IN 96 HOURS',\n",
       "       'CURRENT DISTANCE IN 48 HOURS', 'CURRENT IN MILES PER 2 DAYS',\n",
       "       'CURRENT MEASURED IN 48 HOURS',\n",
       "       'CURRENT SPEED IN MILES PER 24 HOURS',\n",
       "       'CURRENT SPEED IN MILES PER 48 HOURS'], dtype=object)"
      ]
     },
     "execution_count": 36,
     "metadata": {},
     "output_type": "execute_result"
    }
   ],
   "source": [
    "df_unit_m.units_of_other_measurements.unique()"
   ]
  },
  {
   "cell_type": "code",
   "execution_count": 37,
   "id": "earlier-football",
   "metadata": {},
   "outputs": [
    {
     "data": {
      "text/plain": [
       "array(['UNKNOWN'], dtype=object)"
      ]
     },
     "execution_count": 37,
     "metadata": {},
     "output_type": "execute_result"
    }
   ],
   "source": [
    "df_humi_u.humidity_units.unique()"
   ]
  },
  {
   "cell_type": "markdown",
   "id": "academic-antibody",
   "metadata": {},
   "source": [
    "An overview through time of some of the Barometer types and air pressure units"
   ]
  },
  {
   "cell_type": "code",
   "execution_count": 38,
   "id": "natural-stocks",
   "metadata": {},
   "outputs": [
    {
     "data": {
      "image/png": "[encoded data removed]",
      "text/plain": [
       "<Figure size 1440x720 with 1 Axes>"
      ]
     },
     "metadata": {},
     "output_type": "display_data"
    }
   ],
   "source": [
    "fig = plt.figure(figsize=(20, 10))\n",
    "\n",
    "ax = fig.add_subplot(111)\n",
    "\n",
    "g = sns.histplot(\n",
    "    data=df_barot,\n",
    "    x=\"Year\",\n",
    "    hue=\"baro_types\",\n",
    "    multiple=\"stack\",\n",
    "    palette=\"deep\",\n",
    "    ax=ax,\n",
    "    legend=True,\n",
    ")\n",
    "ax.grid(False)\n",
    "plt.setp(g.get_xticklabels(), rotation=45)\n",
    "plt.title(\"Barometer types\", fontsize=16)\n",
    "\n",
    "plt.show()"
   ]
  },
  {
   "cell_type": "code",
   "execution_count": 39,
   "id": "brazilian-delight",
   "metadata": {},
   "outputs": [
    {
     "data": {
      "image/png": "[encoded data removed]",
      "text/plain": [
       "<Figure size 1440x720 with 1 Axes>"
      ]
     },
     "metadata": {},
     "output_type": "display_data"
    }
   ],
   "source": [
    "fig = plt.figure(figsize=(20, 10))\n",
    "\n",
    "ax = fig.add_subplot(111)\n",
    "\n",
    "cmap = sns.set_palette(\"rocket\", n_colors=len(df_apu.ap_units.unique()))\n",
    "\n",
    "g = sns.histplot(\n",
    "    data=df_apu,\n",
    "    x=\"Year\",\n",
    "    hue=\"ap_units\",\n",
    "    multiple=\"stack\",\n",
    "    palette=cmap,\n",
    "    ax=ax,\n",
    "    legend=True,\n",
    ")\n",
    "ax.grid(False)\n",
    "plt.setp(g.get_xticklabels(), rotation=45)\n",
    "plt.title(\"Air temp units\", fontsize=16)\n",
    "\n",
    "plt.show()"
   ]
  },
  {
   "cell_type": "markdown",
   "id": "sticky-paste",
   "metadata": {},
   "source": [
    "**Overview of the position quality**"
   ]
  },
  {
   "cell_type": "code",
   "execution_count": 40,
   "id": "seven-international",
   "metadata": {},
   "outputs": [
    {
     "data": {
      "image/png": "[encoded data removed]",
      "text/plain": [
       "<Figure size 1440x720 with 2 Axes>"
      ]
     },
     "metadata": {},
     "output_type": "display_data"
    }
   ],
   "source": [
    "fig, ax = plt.subplots(2, 1, figsize=(20, 10))\n",
    "\n",
    "\n",
    "g = sns.histplot(\n",
    "    data=df_lati,\n",
    "    x=\"Year\",\n",
    "    hue=\"lan_inds\",\n",
    "    multiple=\"stack\",\n",
    "    palette=\"deep\",\n",
    "    ax=ax[0],\n",
    "    legend=True,\n",
    ")\n",
    "plt.setp(g.get_xticklabels(), rotation=45)\n",
    "ax[0].grid(False)\n",
    "\n",
    "xticks = ax[0].xaxis.get_major_ticks()\n",
    "for i in range(len(xticks)):\n",
    "    if i % 2 == 1:\n",
    "        xticks[i].set_visible(False)\n",
    "\n",
    "ax[0].set_title(\n",
    "    \"Coordinates indicator\", fontdict={\"fontsize\": 16, \"fontweight\": \"medium\"}\n",
    ")\n",
    "ax[0].set_xlabel(\"\")\n",
    "\n",
    "\n",
    "p = sns.histplot(\n",
    "    data=df_loni,\n",
    "    x=\"Year\",\n",
    "    hue=\"lon_inds\",\n",
    "    multiple=\"stack\",\n",
    "    palette=\"colorblind\",\n",
    "    ax=ax[1],\n",
    "    legend=True,\n",
    ")\n",
    "plt.setp(p.get_xticklabels(), rotation=45)\n",
    "ax[1].grid(False)\n",
    "\n",
    "xticks = ax[1].xaxis.get_major_ticks()\n",
    "for i in range(len(xticks)):\n",
    "    if i % 2 == 1:\n",
    "        xticks[i].set_visible(False)\n",
    "\n",
    "plt.show()"
   ]
  },
  {
   "cell_type": "markdown",
   "id": "fossil-victim",
   "metadata": {},
   "source": [
    "Code table for lat and lon indicators, according to this [information](https://stvno.github.io/page/cliwoc/):\n",
    "\n",
    "```\n",
    "{\n",
    "\t\"1\":\"originates from dead reckoning\",\n",
    "\t\"2\":\"originates from true navigation (bearing/distance, celestial)\",\n",
    "\t\"3\":\"Interpolated manually\",\n",
    "\t\"4\":\"Interpolated\",\n",
    "\t\"5\":\"Inserted actual position (ports, islands, etc.)\",\n",
    "\t\"6\":\"Missing\"\n",
    "}\n",
    "```\n",
    "\n",
    "Is it worth using the coordinates from the supplemental metadata or should I use the imma.core lat and lon?"
   ]
  }
 ],
 "metadata": {
  "kernelspec": {
   "display_name": "Python 3",
   "language": "python",
   "name": "python3"
  },
  "language_info": {
   "codemirror_mode": {
    "name": "ipython",
    "version": 3
   },
   "file_extension": ".py",
   "mimetype": "text/x-python",
   "name": "python",
   "nbconvert_exporter": "python",
   "pygments_lexer": "ipython3",
   "version": "3.7.3"
  }
 },
 "nbformat": 4,
 "nbformat_minor": 5
}
