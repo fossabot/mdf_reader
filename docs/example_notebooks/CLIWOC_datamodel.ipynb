{
 "cells": [
  {
   "cell_type": "markdown",
   "metadata": {},
   "source": [
    "## Generating a data model for CLIWOC"
   ]
  },
  {
   "cell_type": "code",
   "execution_count": null,
   "metadata": {},
   "outputs": [],
   "source": [
    "import os\n",
    "import sys\n",
    "\n",
    "sys.path.append(\"/Users/brivas/c3s_work\")\n",
    "\n",
    "import mdf_reader"
   ]
  },
  {
   "cell_type": "code",
   "execution_count": null,
   "metadata": {},
   "outputs": [],
   "source": [
    "schema = \"imma1\"\n",
    "\n",
    "data_file_path = (\n",
    "    \"/Users/brivas/c3s_work/mdf_reader/tests/data/133-730_1776-10_subset.imma\"\n",
    ")\n",
    "\n",
    "data_raw = mdf_reader.read(data_file_path, data_model=schema)"
   ]
  },
  {
   "cell_type": "code",
   "execution_count": null,
   "metadata": {},
   "outputs": [],
   "source": [
    "data_raw.data[\"c99\"].head()"
   ]
  },
  {
   "cell_type": "code",
   "execution_count": null,
   "metadata": {},
   "outputs": [],
   "source": [
    "line = data_raw.data[\"c99\"].iloc[3].values[0]\n",
    "line"
   ]
  },
  {
   "cell_type": "code",
   "execution_count": null,
   "metadata": {},
   "outputs": [],
   "source": [
    "len(line)"
   ]
  },
  {
   "cell_type": "code",
   "execution_count": null,
   "metadata": {},
   "outputs": [],
   "source": [
    "path_to_folder = \"/Users/brivas/c3s_work/mdf_reader/data_models/lib/\"\n",
    "model_name = \"imma1_d730\"\n",
    "model_path = os.path.join(path_to_folder, model_name)\n",
    "model_path"
   ]
  },
  {
   "cell_type": "code",
   "execution_count": null,
   "metadata": {},
   "outputs": [],
   "source": [
    "data_file_path = (\n",
    "    \"/Users/brivas/c3s_work/mdf_reader/tests/data/133-730_1776-10_subset.imma\"\n",
    ")\n",
    "\n",
    "data = mdf_reader.read(data_file_path, data_model_path=model_path)"
   ]
  },
  {
   "cell_type": "code",
   "execution_count": null,
   "metadata": {},
   "outputs": [],
   "source": [
    "data.data[[\"c99_sentinal\"]].head()"
   ]
  },
  {
   "cell_type": "code",
   "execution_count": null,
   "metadata": {},
   "outputs": [],
   "source": [
    "data.data[[\"c99_logbook\"]].c99_logbook.describe(include=\"all\")"
   ]
  },
  {
   "cell_type": "code",
   "execution_count": null,
   "metadata": {},
   "outputs": [],
   "source": [
    "import pandas as pd\n",
    "\n",
    "pd.options.display.max_columns = None\n",
    "data.data[[\"c99_voyage\"]].c99_voyage.describe(include=\"all\")"
   ]
  },
  {
   "cell_type": "code",
   "execution_count": null,
   "metadata": {},
   "outputs": [],
   "source": [
    "data.data[[\"c99_voyage\"]].c99_voyage.ZeroMeridian.head()"
   ]
  },
  {
   "cell_type": "markdown",
   "metadata": {},
   "source": [
    "e.g. the ship types on this deck will be given in a tons of different languages. There is no code table for this variable in the CLIWOC website.\n",
    "\n",
    "Would this information will be enough (e.g. for things that Liz is doing)?"
   ]
  },
  {
   "cell_type": "code",
   "execution_count": null,
   "metadata": {},
   "outputs": [],
   "source": [
    "data.data[[\"c99_voyage\"]].c99_voyage.Ship_type.dropna().head()"
   ]
  },
  {
   "cell_type": "code",
   "execution_count": null,
   "metadata": {},
   "outputs": [],
   "source": [
    "data.data[[\"c99_data\"]].c99_data.describe(include=\"all\")"
   ]
  },
  {
   "cell_type": "markdown",
   "metadata": {},
   "source": [
    "What about the different scales for the wind force, given different languages?"
   ]
  },
  {
   "cell_type": "code",
   "execution_count": null,
   "metadata": {},
   "outputs": [],
   "source": [
    "data.data[[\"c99_data\"]].c99_data.wind_force.head()"
   ]
  },
  {
   "cell_type": "markdown",
   "metadata": {},
   "source": [
    "For some of this data there are some code tables but according to the mdf reader we need a single code table.\n",
    "\n",
    "We would have to make a nested .json file I think ... with the main key as the language. More ideas on how to do this are welcome."
   ]
  },
  {
   "cell_type": "markdown",
   "metadata": {},
   "source": [
    "I have done some of the easy key tables including the Meridian one. You can find those under  [ICOADS.C99.Variable.json](https://git.noc.ac.uk/brecinosrivas/mdf_reader/-/tree/master/data_models/lib/imma1_d730/code_tables)"
   ]
  }
 ],
 "metadata": {
  "language_info": {
   "codemirror_mode": {
    "name": "ipython",
    "version": 3
   },
   "file_extension": ".py",
   "mimetype": "text/x-python",
   "name": "python",
   "nbconvert_exporter": "python",
   "pygments_lexer": "ipython3",
   "version": "3.7.3"
  }
 },
 "nbformat": 4,
 "nbformat_minor": 4
}
