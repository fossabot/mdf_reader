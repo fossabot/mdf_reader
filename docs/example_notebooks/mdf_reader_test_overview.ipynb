{
 "cells": [
  {
   "cell_type": "markdown",
   "metadata": {},
   "source": [
    "## Test and overview of the `mdf_reader` tool"
   ]
  },
  {
   "cell_type": "markdown",
   "metadata": {},
   "source": [
    "First clone the [gitlab repository](https://git.noc.ac.uk/brecinosrivas/mdf_reader) and modify the path in `sys.path.append()` with the directory path where you store the `mdf_reader` repository."
   ]
  },
  {
   "cell_type": "code",
   "execution_count": null,
   "metadata": {},
   "outputs": [],
   "source": [
    "import os\n",
    "import sys\n",
    "\n",
    "sys.path.append(\"/home/bea/\")"
   ]
  },
  {
   "cell_type": "markdown",
   "metadata": {},
   "source": [
    "The `mdf_reader` is a python3 tool designed to read data files compliant with a user specified [data\n",
    "model](https://cds.climate.copernicus.eu/toolbox/doc/how-to/15_how_to_understand_the_common_data_model/15_how_to_understand_the_common_data_model.html).\n",
    "\n",
    "It was developed with the initial idea to read the [IMMA](https://icoads.noaa.gov/e-doc/imma/R3.0-imma1.pdf) data format, but it was further enhanced to account for other meteorological data formats.\n",
    "\n",
    "Lets see an example for a typical file from [ICOADSv3.0.](https://icoads.noaa.gov/r3.html). We pick an specific montly output for a Source/Deck. In this case data from the Marine Meterological Journals data set SID/DCK: **125-704 for Oct 1878.**\n",
    "\n",
    "The `.imma` file looks like this:"
   ]
  },
  {
   "cell_type": "code",
   "execution_count": null,
   "metadata": {},
   "outputs": [],
   "source": [
    "import pandas as pd\n",
    "\n",
    "import mdf_reader\n",
    "\n",
    "data_path = os.path.join(\n",
    "    \"~/c3s_work\", \"mdf_reader/tests/data/125-704_1878-10_subset.imma\"\n",
    ")\n",
    "data_ori = pd.read_table(data_path)"
   ]
  },
  {
   "cell_type": "code",
   "execution_count": null,
   "metadata": {},
   "outputs": [],
   "source": [
    "data_ori.head()"
   ]
  },
  {
   "cell_type": "markdown",
   "metadata": {},
   "source": [
    "Very messy to just read into python!\n",
    "\n",
    "This is why we need the `mdf_reader` tool, to helps us put those imma files in a [pandas.DataFrame](https://pandas.pydata.org/pandas-docs/stable/reference/api/pandas.DataFrame.html) format. For that we need need a **schema**.\n",
    "\n",
    "A **schema** file gathers a collection of descriptors that enable the `mdf_reader` tool to access the content\n",
    "of a `data model/ schema` and extract the sections of the raw data file that contains meaningful information. These **schema files** are the `bones` of the data model, basically `.json` files outlining the structure of the incoming raw data.\n",
    "\n",
    "The `mdf_reader` takes this information and translate the characteristics of the data to a python pandas dataframe.\n",
    "\n",
    "The tool has several **schema** templates build in."
   ]
  },
  {
   "cell_type": "code",
   "execution_count": null,
   "metadata": {},
   "outputs": [],
   "source": [
    "template_names = mdf_reader.schemas.templates()"
   ]
  },
  {
   "cell_type": "code",
   "execution_count": null,
   "metadata": {},
   "outputs": [],
   "source": [
    "template_names"
   ]
  },
  {
   "cell_type": "markdown",
   "metadata": {},
   "source": [
    "As well as templates for `code_tables` which are `.json` files containing keys to describe complex metereological variables like weather forcast or sea state conditions."
   ]
  },
  {
   "cell_type": "code",
   "execution_count": null,
   "metadata": {},
   "outputs": [],
   "source": [
    "template_tables = mdf_reader.code_tables.templates()\n",
    "template_tables"
   ]
  },
  {
   "cell_type": "markdown",
   "metadata": {},
   "source": [
    "**Schemas** can be desinged to be deck specific like the example below"
   ]
  },
  {
   "cell_type": "code",
   "execution_count": null,
   "metadata": {},
   "outputs": [],
   "source": [
    "schema = \"imma1_d704\"\n",
    "\n",
    "data_file_path = \"/home/bea/c3s_work/mdf_reader/tests/data/125-704_1878-10_subset.imma\"\n",
    "\n",
    "data = mdf_reader.read(data_file_path, data_model=schema)"
   ]
  },
  {
   "cell_type": "markdown",
   "metadata": {},
   "source": [
    "A new **schema** can be build for a particular deck and source as shown in this notebook. The `imma1_d704` schema was build upon the `imma1` schema/data model but extra sections have been added to the `.json` files to include suplemental data from ICOADS documentation. This is a snapshot of the data inside the `imma1_d704.json`.\n",
    "\n",
    "```\n",
    "\"c99_journal\": {\n",
    "            \"header\": {\"sentinal\": \"1\", \"field_layout\":\"fixed_width\",\"length\": 117},\n",
    "            \"elements\": {\n",
    "              \"sentinal\":{\n",
    "                  \"description\": \"Journal header record identifier\",\n",
    "                  \"field_length\": 1,\n",
    "                  \"column_type\": \"str\"\n",
    "              },\n",
    "              \"reel_no\":{\n",
    "                  \"description\": \"Microfilm reel number. See if we want the zero padding or not...\",\n",
    "                  \"field_length\": 3,\n",
    "                  \"column_type\": \"str\",\n",
    "                  \"LMR6\": true\n",
    "              }\n",
    "\n",
    "```"
   ]
  },
  {
   "cell_type": "markdown",
   "metadata": {},
   "source": [
    "Now metadata information can be extracted as a component of the padas dataframe."
   ]
  },
  {
   "cell_type": "code",
   "execution_count": null,
   "metadata": {},
   "outputs": [],
   "source": [
    "data.data.c99_journal"
   ]
  },
  {
   "cell_type": "markdown",
   "metadata": {},
   "source": [
    "To learn how to construc a schema or data model for a particular deck/source, visit this other tutorial: [create_data_model.ipynb](https://git.noc.ac.uk/brecinosrivas/mdf_reader/-/blob/master/docs/notebooks/create_data_model.ipynb)"
   ]
  }
 ],
 "metadata": {
  "language_info": {
   "codemirror_mode": {
    "name": "ipython",
    "version": 3
   },
   "file_extension": ".py",
   "mimetype": "text/x-python",
   "name": "python",
   "nbconvert_exporter": "python",
   "pygments_lexer": "ipython3",
   "version": "3.6.5"
  }
 },
 "nbformat": 4,
 "nbformat_minor": 4
}
