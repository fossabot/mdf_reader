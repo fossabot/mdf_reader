{
 "cells": [
  {
   "cell_type": "markdown",
   "metadata": {},
   "source": [
    "## Creating a data model"
   ]
  },
  {
   "cell_type": "markdown",
   "metadata": {},
   "source": [
    "In this notebook we will create and apply a new **data model/schema** to a raw `.imma` file, using the [mdf_reader](https://git.noc.ac.uk/iregon/mdf_reader) tool. We will add supplemental metadata to the basic `imma1` data model and display supplemental data as a pandas dataframe.\n",
    "\n",
    "Lets first import all the tools that we will need."
   ]
  },
  {
   "cell_type": "code",
   "execution_count": null,
   "metadata": {},
   "outputs": [],
   "source": [
    "import os\n",
    "import sys\n",
    "\n",
    "sys.path.append(\"/home/bea/\")\n",
    "\n",
    "import mdf_reader"
   ]
  },
  {
   "cell_type": "markdown",
   "metadata": {},
   "source": [
    "The `mdf_reader` tool comes with data model templates of `.json` files, that we can use to build our models. For more information see the following [manual](https://git.noc.ac.uk/iregon/mdf_reader/-/blob/master/docs/User_manual.docx)."
   ]
  },
  {
   "cell_type": "code",
   "execution_count": null,
   "metadata": {},
   "outputs": [],
   "source": [
    "path_to_data_models = \"/home/bea/c3s_work/mdf_reader/data_models/lib/\"\n",
    "\n",
    "template_names = mdf_reader.schemas.templates()\n",
    "template_names"
   ]
  },
  {
   "cell_type": "markdown",
   "metadata": {},
   "source": [
    "According to the manual, ICOADS data stored with the [IMMA format](https://icoads.noaa.gov/e-doc/imma/R3.0-imma1.pdf) represents a complex data model, since the data includes blocks of sections which are exclusive to certain DCK's (e.g. data coming from the NOAA National Climatic Data Center (NCDC) TD-11 formats). Most of the ICOADS data however will need a **schema** based on the `imma1.json` format, which is based on the template: `*_complex_opt.json`.\n",
    "\n",
    "Lets try to build our own **schema** based on this template for a new dck. In this notebook we will organise the data and metadata from the **US Maury collection** that corresponds to `source/dck 069-701`.\n",
    "\n",
    "1. First lets read a raw `.imma` file from dck 701 as an example, for a subset of the data collected in April/1845."
   ]
  },
  {
   "cell_type": "code",
   "execution_count": null,
   "metadata": {},
   "outputs": [],
   "source": [
    "schema = \"imma1\"\n",
    "\n",
    "data_file_path = \"/home/bea/c3s_work/mdf_reader/tests/data/069-701_1845-04_subset.imma\"\n",
    "\n",
    "data_raw = mdf_reader.read(data_file_path, data_model=schema)"
   ]
  },
  {
   "cell_type": "code",
   "execution_count": null,
   "metadata": {},
   "outputs": [],
   "source": [
    "data_raw.data[\"c99\"]"
   ]
  },
  {
   "cell_type": "markdown",
   "metadata": {},
   "source": [
    "The `c99` column is a bit messy. Here, we will need to separate the Suplememal Metadata ingestied in ICOADS as an entire string and sort each row out according to the source&dck documentation.\n",
    "\n",
    "2. We then need to make a new data model or **schema** to be stored in the library folder of the `mdf_reader`. For this we create a folder with the name `imma1_d701` in the lib directory.\n",
    "1. Under this folder (`/data_models/lib/imma1_d701`) we will need to add a `.json` file with the same name. This `imma1_d701.json` file will contain all the data model information with instructions on how to subdivide the metadata added to `c99`. The name of the file is `imma1_d701.json` because the data model for this deck is based on the `imma1` template shown above, but the `c99` will be further subdivided into other columns/sections."
   ]
  },
  {
   "cell_type": "code",
   "execution_count": null,
   "metadata": {},
   "outputs": [],
   "source": [
    "path_to_folder = \"/home/bea/c3s_work/mdf_reader/data_models/lib/\"\n",
    "model_name = \"imma1_d701\"\n",
    "model_path = os.path.join(path_to_folder, model_name)\n",
    "model_path"
   ]
  },
  {
   "cell_type": "markdown",
   "metadata": {},
   "source": [
    "> Uncomment the following lines to create new data models. This folder is already withing the repository so you dont need to run the lines below. They only serve as a guide for further schemas"
   ]
  },
  {
   "cell_type": "code",
   "execution_count": null,
   "metadata": {},
   "outputs": [],
   "source": [
    "# if not os.path.exists(model_path):\n",
    "#     os.makedirs(model_path)"
   ]
  },
  {
   "cell_type": "markdown",
   "metadata": {},
   "source": [
    "In that path we will copy the template that we will based our **schema** from. In this case the `imma1` schema."
   ]
  },
  {
   "cell_type": "code",
   "execution_count": null,
   "metadata": {},
   "outputs": [],
   "source": [
    "# import shutil\n",
    "# shutil.copyfile(os.path.join(path_to_folder, 'imma1/imma1.json'),  os.path.join(model_path, model_name+'.json'))"
   ]
  },
  {
   "cell_type": "markdown",
   "metadata": {},
   "source": [
    "Now we need to make a directory called `code_tables` and copy all `code_tables` from the `imma1` folder template"
   ]
  },
  {
   "cell_type": "code",
   "execution_count": null,
   "metadata": {},
   "outputs": [],
   "source": [
    "# import shutil\n",
    "# shutil.copytree(os.path.join(path_to_folder, 'imma1/code_tables'), os.path.join(model_path,'code_tables'))"
   ]
  },
  {
   "cell_type": "markdown",
   "metadata": {},
   "source": [
    "We end up with something like this:"
   ]
  },
  {
   "cell_type": "code",
   "execution_count": null,
   "metadata": {},
   "outputs": [],
   "source": [
    "from IPython.display import Image\n",
    "\n",
    "Image(filename=\"/home/bea/c3s_work/figures/deckschema.png\")"
   ]
  },
  {
   "cell_type": "code",
   "execution_count": null,
   "metadata": {},
   "outputs": [],
   "source": [
    "from IPython.display import Image\n",
    "\n",
    "Image(filename=\"/home/bea/c3s_work/figures/code_tables_schema_one.png\")"
   ]
  },
  {
   "cell_type": "markdown",
   "metadata": {},
   "source": [
    "Now the key will be to modify the `c99` section of the `imma1_d701.json`. See the highlighted text in the figure below."
   ]
  },
  {
   "cell_type": "code",
   "execution_count": null,
   "metadata": {},
   "outputs": [],
   "source": [
    "from IPython.display import Image\n",
    "\n",
    "Image(filename=\"/home/bea/c3s_work/figures/c99differences.png\")"
   ]
  },
  {
   "cell_type": "markdown",
   "metadata": {},
   "source": [
    "The `c99_sentinal` section identifies where in the data, we will have a new section. In this case we will have a new section corresponding to Supplemental Metadata.\n",
    "\n",
    "In our example this supplemental metadata will come from the documentation of the US Maury collection stored in the [ICOADS website](https://icoads.noaa.gov/e-doc/other/transpec/maury/maury_transpec).\n",
    "\n",
    "4. We will need to add the metadata information from the website inside that `c99_sentinal` section and create as many sections as the data requires.\n",
    "\n",
    "> sentinal: section identifier\n",
    "> applies to: format.fixed_width\n",
    "> is mandatory: it is not mandatory if the section is unique, unique in a parsing_order block, or\n",
    "> part of a sequential parsing_order block.\n",
    "> type: string\n",
    "> comments: the element bearing the sentinal needs to be, additionally, declared in the\n",
    "> elements block"
   ]
  },
  {
   "cell_type": "markdown",
   "metadata": {},
   "source": [
    "5. We will have to build additional `.json` files to be saved under the `code_tables` folder of our schema. Each `.json` file inside the `code_tables` are dictionaries that will help decode metadata observations (e.g. wind force scales or weather codes).  For each encoded variable that we add, we will need to add a new `ICOADS.C99_Variable.json` to the **schema**. Files need to be named after the section that they represent, in this case `ICOADS.C99_Variable.json`. See images below:"
   ]
  },
  {
   "cell_type": "code",
   "execution_count": null,
   "metadata": {},
   "outputs": [],
   "source": [
    "Image(filename=\"/home/bea/c3s_work/figures/code_tables_schema_two.png\")"
   ]
  },
  {
   "cell_type": "markdown",
   "metadata": {},
   "source": [
    "From the US Maury collection [ICOADS documentation](https://icoads.noaa.gov/e-doc/other/transpec/maury/maury_transpec), we find out that the `c99` for this deck is compose of the following sections:\n",
    "\n",
    "- Data\n",
    "- Header information\n",
    "- Quality control information (qc)"
   ]
  },
  {
   "cell_type": "markdown",
   "metadata": {},
   "source": [
    "```\n",
    "Data stored in the supplemental attachment consisted of the entire data record\n",
    "(173 characters); followed by a selection of fields from, or derived from, the\n",
    "associated header record (through character 241); and selected fields from the\n",
    "qc file (total 250 characters):\n",
    "  # Pos.     Total #  Field  Record\n",
    "    range    of pos.   name    type  Description of field (of derived field)\n",
    "--- -------  -------  -----  ------  ----------------------------------------\n",
    "  1 1-7         7     cvoyd    data  voyage number\n",
    "... ...               ...       ...  ...\n",
    " 47 172-173     2     cmvq     data  magnetic variation QC indicator\n",
    " NA 174-175     2     cts2   header  (fr ship type, ctship, according to [5])\n",
    "  4 176-177     2     cft    header  form type\n",
    "  5 178-193    16     comm   header  commander (first 16 positions only) [6]\n",
    "  6 194-217    24     cfr    header  from city\n",
    "  7 218-241    24     cto    header  to city\n",
    "  2 242-246     5     qc2    qc      reel sequence number\n",
    "  5 247-248     2     qc5    qc      day  (local time) (99 indicates missing)\n",
    "  6 249-250     2     qc6*   qc      hour (local time) (99 indicates missing)\n",
    "--- -------  -------  -----  ------  ----------------------------------------\n",
    "* Whenever qc6 was 24, zero was inadvertently written out to the supplemental\n",
    "attachment.  This resulted from an error in the conversion program, but can\n",
    "be fixed by interpretation of hour zero as hour 24 of qc5 + 1 (as noted in [2],\n",
    "qc6 originally ranged 1-24, with 24 signifying hour 0 of the next day.  As\n",
    "intended, qc5 was included in the supplementary attachment in original form.\n",
    "```"
   ]
  },
  {
   "cell_type": "markdown",
   "metadata": {},
   "source": [
    "In the raw data file the information looks like this:"
   ]
  },
  {
   "cell_type": "code",
   "execution_count": null,
   "metadata": {},
   "outputs": [],
   "source": [
    "c99 = data_raw.data[\"c99\"]\n",
    "line = c99.iloc[63]"
   ]
  },
  {
   "cell_type": "code",
   "execution_count": null,
   "metadata": {},
   "outputs": [],
   "source": [
    "line.values[0]"
   ]
  },
  {
   "cell_type": "markdown",
   "metadata": {},
   "source": [
    "We then need to divide all this string accoding to the documentation above and the format of the data specified in the [US Maury data docs](https://icoads.noaa.gov/e-doc/other/transpec/maury/maury_format)"
   ]
  },
  {
   "cell_type": "code",
   "execution_count": null,
   "metadata": {},
   "outputs": [],
   "source": [
    "# sentinal = 5\n",
    "part_1 = line.values[0][0:5]\n",
    "part_1"
   ]
  },
  {
   "cell_type": "code",
   "execution_count": null,
   "metadata": {},
   "outputs": [],
   "source": [
    "# cvoyd voyage number = 7\n",
    "part_2 = line.values[0][5 : 5 + 7]\n",
    "part_2"
   ]
  },
  {
   "cell_type": "code",
   "execution_count": null,
   "metadata": {},
   "outputs": [],
   "source": [
    "# date = 10\n",
    "part_3 = line.values[0][12 : 12 + 10]\n",
    "part_3"
   ]
  },
  {
   "cell_type": "markdown",
   "metadata": {},
   "source": [
    "6. We build our `.json` file reflecting each data field from the ICOADS documentation as a new section. And add each parameter from the data as a new element. Having a `sentinal` section at the beginning of the `c99` is important since in the `.imma` format, regardless of the source/dck, will have 5 characters that will always be the same."
   ]
  },
  {
   "cell_type": "code",
   "execution_count": null,
   "metadata": {},
   "outputs": [],
   "source": [
    "Image(filename=\"/home/bea/c3s_work/figures/new_schema.png\")"
   ]
  },
  {
   "cell_type": "markdown",
   "metadata": {},
   "source": [
    "To each section we add the corresponding elements/parameters."
   ]
  },
  {
   "cell_type": "code",
   "execution_count": null,
   "metadata": {},
   "outputs": [],
   "source": [
    "Image(filename=\"/home/bea/c3s_work/figures/elements.png\")"
   ]
  },
  {
   "cell_type": "markdown",
   "metadata": {},
   "source": [
    "Now we feed this new data model to the `mdf_reader.read` function. It is important that we save this data model under the right directory"
   ]
  },
  {
   "cell_type": "code",
   "execution_count": null,
   "metadata": {},
   "outputs": [],
   "source": [
    "model_path"
   ]
  },
  {
   "cell_type": "code",
   "execution_count": null,
   "metadata": {},
   "outputs": [],
   "source": [
    "data_file_path = \"/home/bea/c3s_work/mdf_reader/tests/data/069-701_1845-04_subset.imma\"\n",
    "\n",
    "data = mdf_reader.read(data_file_path, data_model_path=model_path)"
   ]
  },
  {
   "cell_type": "markdown",
   "metadata": {},
   "source": [
    "And magically all the messy string is separated!"
   ]
  },
  {
   "cell_type": "code",
   "execution_count": null,
   "metadata": {},
   "outputs": [],
   "source": [
    "import pandas as pd\n",
    "\n",
    "pd.options.display.max_columns = None\n",
    "data.data[[\"c99_sentinal\"]].head()"
   ]
  },
  {
   "cell_type": "markdown",
   "metadata": {},
   "source": [
    "> The section above is the sentinal section that is the same in all ICOADS dck's/c99 column"
   ]
  },
  {
   "cell_type": "code",
   "execution_count": null,
   "metadata": {},
   "outputs": [],
   "source": [
    "data.data[[\"c99_data\"]].head(n=5)"
   ]
  },
  {
   "cell_type": "code",
   "execution_count": null,
   "metadata": {},
   "outputs": [],
   "source": [
    "data.data[[\"c99_header\"]].head(n=5)"
   ]
  },
  {
   "cell_type": "code",
   "execution_count": null,
   "metadata": {},
   "outputs": [],
   "source": [
    "data.data[[\"c99_qc\"]].head(n=5)"
   ]
  }
 ],
 "metadata": {
  "language_info": {
   "codemirror_mode": {
    "name": "ipython",
    "version": 3
   },
   "file_extension": ".py",
   "mimetype": "text/x-python",
   "name": "python",
   "nbconvert_exporter": "python",
   "pygments_lexer": "ipython3",
   "version": "3.6.5"
  }
 },
 "nbformat": 4,
 "nbformat_minor": 4
}
