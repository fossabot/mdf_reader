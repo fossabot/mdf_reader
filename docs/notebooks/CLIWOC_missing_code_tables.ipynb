{
 "cells": [
  {
   "cell_type": "markdown",
   "id": "nutritional-indie",
   "metadata": {},
   "source": [
    "## Generating CLIWOC missing code tables "
   ]
  },
  {
   "cell_type": "markdown",
   "id": "grateful-coalition",
   "metadata": {},
   "source": [
    "The Climatological Database for the World's Oceans 1750-1850 ([CLIWOC](https://stvno.github.io/page/cliwoc/)) has valuable information on its supplemental data stored in the [IMMA](https://icoads.noaa.gov/e-doc/imma/R3.0-imma1.pdf) format under the C99 column. \n",
    "\n",
    "We have successfully extracted this information with the [mdf_reader()](https://git.noc.ac.uk/brecinosrivas/mdf_reader) tool, but several important variables are missing their code tables. \n",
    "\n",
    "List of variables: \n",
    "\n",
    "- Ship types\n",
    "- latitude indicator\n",
    "- longitude indicator,\n",
    "- air temperature units\n",
    "- sst units\n",
    "- air pressure units\n",
    "- units of attached thermometer\n",
    "- longitude units\n",
    "- Barometer type\n",
    "\n",
    "According to the [documentation](https://stvno.github.io/page/cliwoc/) of this deck (730) there are up to 20 different ways of writing down the air pressure but the code tables are not available anymore on the website. Therefore, we extracted from the supplemental data all possible entries for those fields which are missing a code table. We count each entry in order to construct a code table for that particular variable.\n",
    "\n",
    "The code to extract multiple variables from the CLIWOC supplemental data can be found [here](https://git.noc.ac.uk/brecinosrivas/mdf_reader/-/blob/master/tests/gather_stats_c99.py)\n",
    "\n",
    "\n",
    "### Set up "
   ]
  },
  {
   "cell_type": "code",
   "execution_count": 1,
   "id": "described-wallet",
   "metadata": {},
   "outputs": [],
   "source": [
    "import os\n",
    "import sys\n",
    "import pandas as pd\n",
    "import numpy as np\n",
    "import pickle\n",
    "from collections import defaultdict\n",
    "import matplotlib.pyplot as plt\n",
    "import matplotlib.dates as mdates\n",
    "import seaborn as sns\n",
    "# PARAMS for plots\n",
    "from matplotlib import rcParams\n",
    "sns.set_style(\"whitegrid\")\n",
    "rcParams['axes.labelsize'] = 14\n",
    "rcParams['xtick.labelsize'] = 14\n",
    "rcParams['ytick.labelsize'] = 14\n",
    "rcParams['legend.fontsize'] = 14\n",
    "rcParams['legend.title_fontsize'] = 14"
   ]
  },
  {
   "cell_type": "markdown",
   "id": "ranging-ferry",
   "metadata": {},
   "source": [
    "We stored the statistics per year in python pickle dictionaries."
   ]
  },
  {
   "cell_type": "code",
   "execution_count": 2,
   "id": "favorite-maria",
   "metadata": {},
   "outputs": [],
   "source": [
    "# Paths to data\n",
    "dirs = '/Users/brivas/c3s_work/mdf_reader/tests/data/133-730/133-730'\n",
    "file_names = sorted(os.listdir(dirs))"
   ]
  },
  {
   "cell_type": "code",
   "execution_count": 3,
   "id": "recent-knife",
   "metadata": {},
   "outputs": [
    {
     "data": {
      "text/plain": [
       "['1662.pkl', '1663.pkl', '1677.pkl', '1699.pkl', '1745.pkl']"
      ]
     },
     "execution_count": 3,
     "metadata": {},
     "output_type": "execute_result"
    }
   ],
   "source": [
    "file_names[0:5]"
   ]
  },
  {
   "cell_type": "code",
   "execution_count": 4,
   "id": "traditional-terminal",
   "metadata": {},
   "outputs": [],
   "source": [
    "def get_values(dic, key, year):\n",
    "    \"\"\"\n",
    "    Get individual sets of values from the pickle df\n",
    "    Params:\n",
    "    ------\n",
    "    dic: python dictionary containing all variables stats per year\n",
    "    key: variable name \n",
    "    year: year to extract\n",
    "    Returns:\n",
    "    --------\n",
    "    indexes: these are the variable types (e.g. barque or nan)\n",
    "    series.values: these are the counts of how many that variable name gets repeated\n",
    "    year: year to sample\n",
    "    \"\"\"\n",
    "    series = dic[key]\n",
    "    indexes = series.index.values\n",
    "    year = np.repeat(year, len(indexes))\n",
    "    return indexes, series.values, year"
   ]
  },
  {
   "cell_type": "code",
   "execution_count": 5,
   "id": "forward-context",
   "metadata": {},
   "outputs": [],
   "source": [
    "def exptract_year_arrays(path_to_file, key):\n",
    "    \"\"\"\n",
    "    Reads pickle file and extracts the variable arrays per year\n",
    "    Parms:\n",
    "    -----\n",
    "    path_to_file: path to the pickle file\n",
    "    key: variable to extract\n",
    "    Returns:\n",
    "    --------\n",
    "    df: dataframe from get_df\n",
    "    \n",
    "    \"\"\"\n",
    "    with open(path_to_file, 'rb') as handle:\n",
    "        base = os.path.basename(path_to_file)\n",
    "        year = os.path.splitext(base)[0]\n",
    "        dic_pickle = pickle.load(handle)\n",
    "        df = get_values(dic_pickle, key, year)\n",
    "        return df"
   ]
  },
  {
   "cell_type": "code",
   "execution_count": 6,
   "id": "ongoing-franchise",
   "metadata": {},
   "outputs": [],
   "source": [
    "def make_data_frame(list_of_files, main_directory, key):\n",
    "    \n",
    "    # Define empty arrays to store the data \n",
    "    years=np.array([])\n",
    "    types_of_var = np.array([])\n",
    "    counts_var = np.array([])\n",
    "    \n",
    "    for file in list_of_files:\n",
    "        full_path = os.path.join(main_directory, file)\n",
    "        var_type, count, year_f = exptract_year_arrays(full_path, key)\n",
    "        years = np.concatenate([years, year_f])\n",
    "        types_of_var = np.concatenate([types_of_var, var_type])\n",
    "        counts_var = np.concatenate([counts_var, count])\n",
    "    \n",
    "    dataset = pd.DataFrame({'Year': years, \n",
    "                            key: types_of_var, 'Count': counts_var})\n",
    "    \n",
    "    return dataset"
   ]
  },
  {
   "cell_type": "code",
   "execution_count": 7,
   "id": "sufficient-jacob",
   "metadata": {},
   "outputs": [
    {
     "data": {
      "text/plain": [
       "'/Users/brivas/c3s_work/mdf_reader/tests/data/133-730/133-730'"
      ]
     },
     "execution_count": 7,
     "metadata": {},
     "output_type": "execute_result"
    }
   ],
   "source": [
    "dirs"
   ]
  },
  {
   "cell_type": "code",
   "execution_count": 8,
   "id": "settled-tribune",
   "metadata": {},
   "outputs": [],
   "source": [
    "# List of variables names stored in the pickle files \n",
    "dic_keys = ['ship_types', \n",
    "            'lan_inds', # in a silly mistake I wrote lat wrong in the output data set. Oh well\n",
    "            'lon_inds', \n",
    "            'at_units', \n",
    "            'sst_units', \n",
    "            'ap_units', \n",
    "            'bart_units', \n",
    "            'lon_units', \n",
    "            'baro_types']\n",
    "\n",
    "df_ships = make_data_frame(file_names, dirs, dic_keys[0]).dropna()\n",
    "df_lati = make_data_frame(file_names, dirs, dic_keys[1]).dropna()\n",
    "df_loni = make_data_frame(file_names, dirs, dic_keys[2]).dropna()\n",
    "df_atu = make_data_frame(file_names, dirs, dic_keys[3]).dropna()\n",
    "df_sstu = make_data_frame(file_names, dirs, dic_keys[4]).dropna()\n",
    "df_apu = make_data_frame(file_names, dirs, dic_keys[5]).dropna()\n",
    "df_bartu = make_data_frame(file_names, dirs, dic_keys[6]).dropna()\n",
    "df_lonu = make_data_frame(file_names, dirs, dic_keys[7]).dropna()\n",
    "df_barot = make_data_frame(file_names, dirs, dic_keys[8]).dropna()"
   ]
  },
  {
   "cell_type": "markdown",
   "id": "pressing-discovery",
   "metadata": {},
   "source": [
    "- Ship types \n",
    "\n",
    "Something might be off here in the `mdf_reader()` .json file because some of the ship types seem cut off. Also I guess the plot that I had before made more sense with less data."
   ]
  },
  {
   "cell_type": "code",
   "execution_count": 9,
   "id": "occasional-abuse",
   "metadata": {},
   "outputs": [
    {
     "name": "stdout",
     "output_type": "stream",
     "text": [
      "GALJOOT\n",
      "NAVIO\n",
      "5TH RATE\n",
      "6TH RATE\n",
      "FRIGATE\n",
      "SHIP O.T. LINE\n",
      "SLOOP\n",
      "FREGAT\n",
      "4TH RATE\n",
      "SNOW\n",
      "3RD RATE\n",
      "FR�GATE\n",
      "FREGATE\n",
      "FREGATTE\n",
      "2ND RATE\n",
      "NAV�O\n",
      "SNAUW\n",
      "BOMB VESSEL, SL\n",
      "OORLOGSSCHIP\n",
      "BOMB/EXPLORATIO\n",
      "OORLOGSSNAUW\n",
      "SLOOP (?)\n",
      "STORESHIP\n",
      "BRIK\n",
      "PAQUEBOTE\n",
      "CUTTER\n",
      "FRAGATA\n",
      "FRAGATA CORREO\n",
      "PAQUEBOT\n",
      "BALANDRA\n",
      "BARK\n",
      "BERGANTIN\n",
      "SLOOP, THREE MA\n",
      "6TH RATE FRIGAT\n",
      "SPIEGELRETOURSC\n",
      "TRANSPORT\n",
      "EXPLORATION VES\n",
      "MERCHANT BRIG\n",
      "CHAMBEQU�N\n",
      "BUQUE\n",
      "FRAGATA DE GUER\n",
      "FIRESHIP\n",
      "SNAAUW\n",
      "NAV�O DE LA REA\n",
      "BRIG\n",
      "ADVIJSJAGT\n",
      "KOTTER\n",
      "7TH RATE\n",
      "BRIGANTIJN\n",
      "8TH RATE\n",
      "CORVETTE\n",
      "COTTER\n",
      "GABARRE\n",
      "BRIG/SLOOP\n",
      "PINK\n",
      "BARGENTIJN\n",
      "HOEKERSCHIP\n",
      "L'AVISO\n",
      "FLUTE\n",
      "GOLETA GUARDA C\n",
      "HOEKER\n",
      "CORVETA\n",
      "FLUIT\n",
      "POLACRA\n",
      "WHALER\n",
      "PAKKETBOOT (BRI\n",
      "ARMED STORESHIP\n",
      "SLOEP\n",
      "SCHOENER\n",
      "PACKET SHIP\n",
      "KORVET\n",
      "STORE SHIP\n",
      "TROOP SHIP\n",
      "CORVET\n",
      "LINIESCHIP\n",
      "KORVET V OORLOG\n",
      "BRIK VAN OORLOG\n",
      "KOOPVAARDER\n",
      "FREGATSCHIP\n",
      "STEAMPOWERED WA\n",
      "TRANSPORTSCHIP\n",
      "GOLETA\n",
      "KORVET VAN OORL\n",
      "BRICK\n",
      "ORVET         M\n",
      "STEAMER\n",
      "SCHOENERBRIK\n",
      "MISTICO\n",
      "STOOMSCHIP\n",
      "FALUCHO\n"
     ]
    }
   ],
   "source": [
    "types_of_ships = df_ships.ship_types.unique()\n",
    "for t in types_of_ships:\n",
    "    print(t)"
   ]
  },
  {
   "cell_type": "markdown",
   "id": "waiting-syndicate",
   "metadata": {},
   "source": [
    "For example that `ORVET         M` ? It looks that maybe that string does not belong to the ship_types field? \n",
    "- AT units \n",
    "\n",
    "This works perfect"
   ]
  },
  {
   "cell_type": "code",
   "execution_count": 10,
   "id": "communist-selection",
   "metadata": {},
   "outputs": [
    {
     "data": {
      "text/plain": [
       "array(['CELSIUS', 'FAHRENHEIT', 'REAMUR', 'REAUMUR', 'AHRENHEIT'],\n",
       "      dtype=object)"
      ]
     },
     "execution_count": 10,
     "metadata": {},
     "output_type": "execute_result"
    }
   ],
   "source": [
    "df_atu.at_units.unique()"
   ]
  },
  {
   "cell_type": "markdown",
   "id": "unnecessary-binary",
   "metadata": {},
   "source": [
    "- SST units \n",
    "\n",
    "This one not so much, and from all the years only those had data."
   ]
  },
  {
   "cell_type": "code",
   "execution_count": 11,
   "id": "welsh-legend",
   "metadata": {},
   "outputs": [
    {
     "data": {
      "text/html": [
       "<div>\n",
       "<style scoped>\n",
       "    .dataframe tbody tr th:only-of-type {\n",
       "        vertical-align: middle;\n",
       "    }\n",
       "\n",
       "    .dataframe tbody tr th {\n",
       "        vertical-align: top;\n",
       "    }\n",
       "\n",
       "    .dataframe thead th {\n",
       "        text-align: right;\n",
       "    }\n",
       "</style>\n",
       "<table border=\"1\" class=\"dataframe\">\n",
       "  <thead>\n",
       "    <tr style=\"text-align: right;\">\n",
       "      <th></th>\n",
       "      <th>Year</th>\n",
       "      <th>sst_units</th>\n",
       "      <th>Count</th>\n",
       "    </tr>\n",
       "  </thead>\n",
       "  <tbody>\n",
       "    <tr>\n",
       "      <th>31</th>\n",
       "      <td>1772</td>\n",
       "      <td>FAHRENHEIT</td>\n",
       "      <td>2.0</td>\n",
       "    </tr>\n",
       "    <tr>\n",
       "      <th>33</th>\n",
       "      <td>1773</td>\n",
       "      <td>FAHRENHEIT</td>\n",
       "      <td>1.0</td>\n",
       "    </tr>\n",
       "    <tr>\n",
       "      <th>81</th>\n",
       "      <td>1820</td>\n",
       "      <td>FAHRENHEIT</td>\n",
       "      <td>3.0</td>\n",
       "    </tr>\n",
       "    <tr>\n",
       "      <th>99</th>\n",
       "      <td>1837</td>\n",
       "      <td>FAHRENHEIT</td>\n",
       "      <td>15.0</td>\n",
       "    </tr>\n",
       "    <tr>\n",
       "      <th>101</th>\n",
       "      <td>1838</td>\n",
       "      <td>D</td>\n",
       "      <td>1.0</td>\n",
       "    </tr>\n",
       "    <tr>\n",
       "      <th>111</th>\n",
       "      <td>1847</td>\n",
       "      <td>FAHRENHEIT</td>\n",
       "      <td>16.0</td>\n",
       "    </tr>\n",
       "    <tr>\n",
       "      <th>117</th>\n",
       "      <td>1852</td>\n",
       "      <td>FAHRENHEIT</td>\n",
       "      <td>32.0</td>\n",
       "    </tr>\n",
       "    <tr>\n",
       "      <th>119</th>\n",
       "      <td>1853</td>\n",
       "      <td>FAHRENHEIT</td>\n",
       "      <td>51.0</td>\n",
       "    </tr>\n",
       "  </tbody>\n",
       "</table>\n",
       "</div>"
      ],
      "text/plain": [
       "     Year   sst_units  Count\n",
       "31   1772  FAHRENHEIT    2.0\n",
       "33   1773  FAHRENHEIT    1.0\n",
       "81   1820  FAHRENHEIT    3.0\n",
       "99   1837  FAHRENHEIT   15.0\n",
       "101  1838           D    1.0\n",
       "111  1847  FAHRENHEIT   16.0\n",
       "117  1852  FAHRENHEIT   32.0\n",
       "119  1853  FAHRENHEIT   51.0"
      ]
     },
     "execution_count": 11,
     "metadata": {},
     "output_type": "execute_result"
    }
   ],
   "source": [
    "df_sstu"
   ]
  },
  {
   "cell_type": "markdown",
   "id": "hollow-rings",
   "metadata": {},
   "source": [
    "- Air pressure units\n",
    "\n",
    "This one I am not sure ...."
   ]
  },
  {
   "cell_type": "code",
   "execution_count": 12,
   "id": "breeding-header",
   "metadata": {},
   "outputs": [
    {
     "data": {
      "text/plain": [
       "array(['INCHES MERCURY', 'DLS12FRANS', 'DLS100', 'DLS10', 'DLS1004',\n",
       "       'DLS1204F', 'DLS1200R', 'DLS1204R', 'INCHES MERCURY60', 'DLS1104R',\n",
       "       'DLS1200', 'DLS12R', 'MILLIMETERS MERCURY', 'RHINE INCHE MERCURY',\n",
       "       'DLS1004A', 'LS1004A', 'DLS12', 'DLS1204', 'DLS1004R', 'DLS10R',\n",
       "       'AMST INCHES MERCURY'], dtype=object)"
      ]
     },
     "execution_count": 12,
     "metadata": {},
     "output_type": "execute_result"
    }
   ],
   "source": [
    "df_apu.ap_units.unique()"
   ]
  },
  {
   "cell_type": "markdown",
   "id": "spiritual-bulgarian",
   "metadata": {},
   "source": [
    "- Attached thermometer units\n",
    "\n",
    "Here I think there might also be a mistake on the .json file since the `U` character seems suspicious."
   ]
  },
  {
   "cell_type": "code",
   "execution_count": 13,
   "id": "blank-pregnancy",
   "metadata": {},
   "outputs": [
    {
     "data": {
      "text/plain": [
       "array(['U', 'FAHRENHEIT'], dtype=object)"
      ]
     },
     "execution_count": 13,
     "metadata": {},
     "output_type": "execute_result"
    }
   ],
   "source": [
    "df_bartu.bart_units.unique()"
   ]
  },
  {
   "cell_type": "markdown",
   "id": "early-shelf",
   "metadata": {},
   "source": [
    "- Longitude Units\n",
    "\n",
    "These seems ok"
   ]
  },
  {
   "cell_type": "code",
   "execution_count": 14,
   "id": "beginning-posting",
   "metadata": {},
   "outputs": [
    {
     "data": {
      "text/plain": [
       "array(['360 DEGREES', '180 DEGREES', 'UNKNOWN', '180 GRADEN',\n",
       "       '80 DEGREES'], dtype=object)"
      ]
     },
     "execution_count": 14,
     "metadata": {},
     "output_type": "execute_result"
    }
   ],
   "source": [
    "df_lonu.lon_units.unique()"
   ]
  },
  {
   "cell_type": "markdown",
   "id": "formal-appreciation",
   "metadata": {},
   "source": [
    "- Barometer types:\n",
    "\n",
    "This also looks ok!"
   ]
  },
  {
   "cell_type": "code",
   "execution_count": 15,
   "id": "fatty-demographic",
   "metadata": {},
   "outputs": [
    {
     "data": {
      "text/plain": [
       "array(['MERCURY', 'SYMPISIOMETER', 'ANEROID'], dtype=object)"
      ]
     },
     "execution_count": 15,
     "metadata": {},
     "output_type": "execute_result"
    }
   ],
   "source": [
    "df_barot.baro_types.unique()"
   ]
  },
  {
   "cell_type": "code",
   "execution_count": 16,
   "id": "seven-international",
   "metadata": {},
   "outputs": [
    {
     "data": {
      "image/png": "[encoded data removed]",
      "text/plain": [
       "<Figure size 1440x720 with 2 Axes>"
      ]
     },
     "metadata": {},
     "output_type": "display_data"
    }
   ],
   "source": [
    "fig, ax = plt.subplots(2, 1, figsize=(20,10))\n",
    "\n",
    "\n",
    "g = sns.histplot(data=df_lati, x=\"Year\", hue=\"lan_inds\", \n",
    "                 multiple=\"stack\", palette='deep', ax=ax[0], legend=True)\n",
    "plt.setp(g.get_xticklabels(), rotation=45)\n",
    "ax[0].grid(False)\n",
    "\n",
    "xticks=ax[0].xaxis.get_major_ticks()\n",
    "for i in range(len(xticks)):\n",
    "    if i%2==1:\n",
    "        xticks[i].set_visible(False)\n",
    "        \n",
    "ax[0].set_title('Coordinates indicator', fontdict={'fontsize': 16, 'fontweight': 'medium'})\n",
    "ax[0].set_xlabel('')\n",
    "        \n",
    "\n",
    "p = sns.histplot(data=df_loni, x=\"Year\", hue=\"lon_inds\", \n",
    "                 multiple=\"stack\", palette='colorblind', ax=ax[1], legend=True)\n",
    "plt.setp(p.get_xticklabels(), rotation=45)\n",
    "ax[1].grid(False)\n",
    "\n",
    "xticks=ax[1].xaxis.get_major_ticks()\n",
    "for i in range(len(xticks)):\n",
    "    if i%2==1:\n",
    "        xticks[i].set_visible(False)\n",
    "         \n",
    "plt.show()"
   ]
  },
  {
   "cell_type": "markdown",
   "id": "fossil-victim",
   "metadata": {},
   "source": [
    "Code table for lat and lon indicators, according to this [information](https://stvno.github.io/page/cliwoc/):\n",
    "\n",
    "```\n",
    "{\n",
    "\t\"1\":\"originates from dead reckoning\",\n",
    "\t\"2\":\"originates from true navigation (bearing/distance, celestial)\",\n",
    "\t\"3\":\"Interpolated manually\",\n",
    "\t\"4\":\"Interpolated\",\n",
    "\t\"5\":\"Inserted actual position (ports, islands, etc.)\",\n",
    "\t\"6\":\"Missing\"\n",
    "}\n",
    "```\n",
    "\n",
    "Is it worth using the coordinates from the supplemental metadata or should I use the imma.core lat and lon?"
   ]
  }
 ],
 "metadata": {
  "kernelspec": {
   "display_name": "Python 3",
   "language": "python",
   "name": "python3"
  },
  "language_info": {
   "codemirror_mode": {
    "name": "ipython",
    "version": 3
   },
   "file_extension": ".py",
   "mimetype": "text/x-python",
   "name": "python",
   "nbconvert_exporter": "python",
   "pygments_lexer": "ipython3",
   "version": "3.7.3"
  }
 },
 "nbformat": 4,
 "nbformat_minor": 5
}
